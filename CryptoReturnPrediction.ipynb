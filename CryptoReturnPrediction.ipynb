{
 "cells": [
  {
   "cell_type": "markdown",
   "metadata": {
    "id": "-wXTSEAuaZT5"
   },
   "source": [
    "## Prediction of cryptocurrency returns using machine learning\n",
    "\n"
   ]
  },
  {
   "cell_type": "markdown",
   "metadata": {
    "id": "_hmUFYWQh4Il"
   },
   "source": [
    "*   Barış Özakar\n",
    "*   Doğan Parlak\n",
    "\n",
    "> Finance and Machine Learning Course Project\n",
    "\n",
    "\n"
   ]
  },
  {
   "cell_type": "markdown",
   "metadata": {
    "id": "tKFHSWkjPC0t"
   },
   "source": [
    "## Import Libraries"
   ]
  },
  {
   "cell_type": "code",
   "execution_count": null,
   "metadata": {
    "colab": {
     "base_uri": "https://localhost:8080/"
    },
    "id": "OblbKiS03K6b",
    "outputId": "b8b889ac-6512-4311-cf48-53eacbcf2196"
   },
   "outputs": [
    {
     "name": "stdout",
     "output_type": "stream",
     "text": [
      "Mounted at /content/gdrive\n"
     ]
    }
   ],
   "source": [
    "from google.colab import drive\n",
    "import pandas as pd\n",
    "import numpy as np\n",
    "import matplotlib.pyplot as plt\n",
    "import seaborn as sns\n",
    "from sklearn.feature_selection import SelectFromModel\n",
    "from sklearn.linear_model import LogisticRegression\n",
    "from sklearn.preprocessing import StandardScaler\n",
    "from sklearn.ensemble import RandomForestClassifier\n",
    "from lightgbm import LGBMClassifier\n",
    "from sklearn.tree import DecisionTreeClassifier \n",
    "from sklearn.svm import SVC\n",
    "from sklearn.pipeline import make_pipeline\n",
    "from sklearn.model_selection import cross_val_score\n",
    "from sklearn.neural_network import MLPClassifier\n",
    "from keras.wrappers.scikit_learn import KerasClassifier\n",
    "from keras.models import Sequential\n",
    "from keras.layers import Dense, Embedding, LSTM, Dropout, SimpleRNN, GRU\n",
    "import pickle\n",
    "import gc\n",
    "drive.mount('/content/gdrive')"
   ]
  },
  {
   "cell_type": "markdown",
   "metadata": {
    "id": "ZWeA0iXLbDhV"
   },
   "source": [
    "## Data Loading"
   ]
  },
  {
   "cell_type": "markdown",
   "metadata": {
    "id": "LuWR0s4bPICr"
   },
   "source": [
    "### Loading data from drive\n"
   ]
  },
  {
   "cell_type": "code",
   "execution_count": null,
   "metadata": {
    "colab": {
     "base_uri": "https://localhost:8080/"
    },
    "id": "SdkkjBfx3qup",
    "outputId": "7458493d-69ad-485b-c7e0-102a3cacca71"
   },
   "outputs": [
    {
     "name": "stdout",
     "output_type": "stream",
     "text": [
      "Archive:  gdrive/My Drive/ada.csv.zip\n",
      "  inflating: ada.csv                 \n",
      "  inflating: __MACOSX/._ada.csv      \n",
      "Archive:  gdrive/My Drive/btc.csv.zip\n",
      "  inflating: btc.csv                 \n",
      "  inflating: __MACOSX/._btc.csv      \n",
      "Archive:  gdrive/My Drive/doge.csv.zip\n",
      "  inflating: doge.csv                \n",
      "  inflating: __MACOSX/._doge.csv     \n",
      "Archive:  gdrive/My Drive/eth.csv.zip\n",
      "  inflating: eth.csv                 \n",
      "  inflating: __MACOSX/._eth.csv      \n",
      "Archive:  gdrive/My Drive/ltc.csv.zip\n",
      "  inflating: ltc.csv                 \n",
      "  inflating: __MACOSX/._ltc.csv      \n"
     ]
    }
   ],
   "source": [
    "!unzip gdrive/My\\ Drive/ada.csv.zip\n",
    "!unzip gdrive/My\\ Drive/btc.csv.zip\n",
    "!unzip gdrive/My\\ Drive/doge.csv.zip\n",
    "!unzip gdrive/My\\ Drive/eth.csv.zip\n",
    "!unzip gdrive/My\\ Drive/ltc.csv.zip"
   ]
  },
  {
   "cell_type": "markdown",
   "metadata": {
    "id": "YBVTCNs0PPZO"
   },
   "source": [
    "### Paths of data from Colab Folder"
   ]
  },
  {
   "cell_type": "code",
   "execution_count": null,
   "metadata": {
    "id": "43UrmqYB7Azp"
   },
   "outputs": [],
   "source": [
    "#Paths of the data\n",
    "data_ada_path = \"/content/ada.csv\"\n",
    "data_btc_path = \"/content/btc.csv\"\n",
    "data_doge_path = \"/content/doge.csv\"\n",
    "data_eth_path = \"/content/eth.csv\"\n",
    "data_ltc_path = \"/content/ltc.csv\"\n"
   ]
  },
  {
   "cell_type": "markdown",
   "metadata": {
    "id": "G0UdFENIPT7R"
   },
   "source": [
    "### Read data to pandas dataframes"
   ]
  },
  {
   "cell_type": "code",
   "execution_count": null,
   "metadata": {
    "id": "3-Cy_G0E7tJt"
   },
   "outputs": [],
   "source": [
    "#Reading the data\n",
    "data_ada = pd.read_csv(data_ada_path) #720600\n",
    "data_btc = pd.read_csv(data_btc_path) #720600\n",
    "data_doge = pd.read_csv(data_doge_path) #720600\n",
    "data_eth = pd.read_csv(data_eth_path) #720600\n",
    "data_ltc = pd.read_csv(data_ltc_path) #720600"
   ]
  },
  {
   "cell_type": "markdown",
   "metadata": {
    "id": "UkHL47S1PaZf"
   },
   "source": [
    " Example raw data"
   ]
  },
  {
   "cell_type": "code",
   "execution_count": null,
   "metadata": {
    "colab": {
     "base_uri": "https://localhost:8080/",
     "height": 204
    },
    "id": "Hu8TcKJi_BHq",
    "outputId": "e191c2e7-49de-466a-9fac-4cde34cd3aaf"
   },
   "outputs": [
    {
     "data": {
      "text/html": [
       "\n",
       "  <div id=\"df-89778b5e-d069-49fb-9655-25c7a210731d\">\n",
       "    <div class=\"colab-df-container\">\n",
       "      <div>\n",
       "<style scoped>\n",
       "    .dataframe tbody tr th:only-of-type {\n",
       "        vertical-align: middle;\n",
       "    }\n",
       "\n",
       "    .dataframe tbody tr th {\n",
       "        vertical-align: top;\n",
       "    }\n",
       "\n",
       "    .dataframe thead th {\n",
       "        text-align: right;\n",
       "    }\n",
       "</style>\n",
       "<table border=\"1\" class=\"dataframe\">\n",
       "  <thead>\n",
       "    <tr style=\"text-align: right;\">\n",
       "      <th></th>\n",
       "      <th>time</th>\n",
       "      <th>id</th>\n",
       "      <th>amount</th>\n",
       "      <th>open</th>\n",
       "      <th>high</th>\n",
       "      <th>low</th>\n",
       "      <th>close</th>\n",
       "      <th>count</th>\n",
       "      <th>vol</th>\n",
       "    </tr>\n",
       "  </thead>\n",
       "  <tbody>\n",
       "    <tr>\n",
       "      <th>0</th>\n",
       "      <td>2020-01-01 00:00:00</td>\n",
       "      <td>1577808000</td>\n",
       "      <td>102.743804</td>\n",
       "      <td>7194.70</td>\n",
       "      <td>7200.00</td>\n",
       "      <td>7186.19</td>\n",
       "      <td>7200.00</td>\n",
       "      <td>497</td>\n",
       "      <td>738706.346176</td>\n",
       "    </tr>\n",
       "    <tr>\n",
       "      <th>1</th>\n",
       "      <td>2020-01-01 00:01:00</td>\n",
       "      <td>1577808060</td>\n",
       "      <td>70.711661</td>\n",
       "      <td>7200.00</td>\n",
       "      <td>7219.58</td>\n",
       "      <td>7199.99</td>\n",
       "      <td>7218.20</td>\n",
       "      <td>448</td>\n",
       "      <td>509693.211491</td>\n",
       "    </tr>\n",
       "    <tr>\n",
       "      <th>2</th>\n",
       "      <td>2020-01-01 00:02:00</td>\n",
       "      <td>1577808120</td>\n",
       "      <td>17.445960</td>\n",
       "      <td>7218.21</td>\n",
       "      <td>7218.44</td>\n",
       "      <td>7213.09</td>\n",
       "      <td>7216.22</td>\n",
       "      <td>248</td>\n",
       "      <td>125889.775364</td>\n",
       "    </tr>\n",
       "    <tr>\n",
       "      <th>3</th>\n",
       "      <td>2020-01-01 00:03:00</td>\n",
       "      <td>1577808180</td>\n",
       "      <td>13.034606</td>\n",
       "      <td>7216.21</td>\n",
       "      <td>7221.91</td>\n",
       "      <td>7215.48</td>\n",
       "      <td>7218.37</td>\n",
       "      <td>300</td>\n",
       "      <td>94091.100831</td>\n",
       "    </tr>\n",
       "    <tr>\n",
       "      <th>4</th>\n",
       "      <td>2020-01-01 00:04:00</td>\n",
       "      <td>1577808240</td>\n",
       "      <td>14.004800</td>\n",
       "      <td>7218.37</td>\n",
       "      <td>7220.13</td>\n",
       "      <td>7210.01</td>\n",
       "      <td>7213.05</td>\n",
       "      <td>279</td>\n",
       "      <td>101042.531802</td>\n",
       "    </tr>\n",
       "  </tbody>\n",
       "</table>\n",
       "</div>\n",
       "      <button class=\"colab-df-convert\" onclick=\"convertToInteractive('df-89778b5e-d069-49fb-9655-25c7a210731d')\"\n",
       "              title=\"Convert this dataframe to an interactive table.\"\n",
       "              style=\"display:none;\">\n",
       "        \n",
       "  <svg xmlns=\"http://www.w3.org/2000/svg\" height=\"24px\"viewBox=\"0 0 24 24\"\n",
       "       width=\"24px\">\n",
       "    <path d=\"M0 0h24v24H0V0z\" fill=\"none\"/>\n",
       "    <path d=\"M18.56 5.44l.94 2.06.94-2.06 2.06-.94-2.06-.94-.94-2.06-.94 2.06-2.06.94zm-11 1L8.5 8.5l.94-2.06 2.06-.94-2.06-.94L8.5 2.5l-.94 2.06-2.06.94zm10 10l.94 2.06.94-2.06 2.06-.94-2.06-.94-.94-2.06-.94 2.06-2.06.94z\"/><path d=\"M17.41 7.96l-1.37-1.37c-.4-.4-.92-.59-1.43-.59-.52 0-1.04.2-1.43.59L10.3 9.45l-7.72 7.72c-.78.78-.78 2.05 0 2.83L4 21.41c.39.39.9.59 1.41.59.51 0 1.02-.2 1.41-.59l7.78-7.78 2.81-2.81c.8-.78.8-2.07 0-2.86zM5.41 20L4 18.59l7.72-7.72 1.47 1.35L5.41 20z\"/>\n",
       "  </svg>\n",
       "      </button>\n",
       "      \n",
       "  <style>\n",
       "    .colab-df-container {\n",
       "      display:flex;\n",
       "      flex-wrap:wrap;\n",
       "      gap: 12px;\n",
       "    }\n",
       "\n",
       "    .colab-df-convert {\n",
       "      background-color: #E8F0FE;\n",
       "      border: none;\n",
       "      border-radius: 50%;\n",
       "      cursor: pointer;\n",
       "      display: none;\n",
       "      fill: #1967D2;\n",
       "      height: 32px;\n",
       "      padding: 0 0 0 0;\n",
       "      width: 32px;\n",
       "    }\n",
       "\n",
       "    .colab-df-convert:hover {\n",
       "      background-color: #E2EBFA;\n",
       "      box-shadow: 0px 1px 2px rgba(60, 64, 67, 0.3), 0px 1px 3px 1px rgba(60, 64, 67, 0.15);\n",
       "      fill: #174EA6;\n",
       "    }\n",
       "\n",
       "    [theme=dark] .colab-df-convert {\n",
       "      background-color: #3B4455;\n",
       "      fill: #D2E3FC;\n",
       "    }\n",
       "\n",
       "    [theme=dark] .colab-df-convert:hover {\n",
       "      background-color: #434B5C;\n",
       "      box-shadow: 0px 1px 3px 1px rgba(0, 0, 0, 0.15);\n",
       "      filter: drop-shadow(0px 1px 2px rgba(0, 0, 0, 0.3));\n",
       "      fill: #FFFFFF;\n",
       "    }\n",
       "  </style>\n",
       "\n",
       "      <script>\n",
       "        const buttonEl =\n",
       "          document.querySelector('#df-89778b5e-d069-49fb-9655-25c7a210731d button.colab-df-convert');\n",
       "        buttonEl.style.display =\n",
       "          google.colab.kernel.accessAllowed ? 'block' : 'none';\n",
       "\n",
       "        async function convertToInteractive(key) {\n",
       "          const element = document.querySelector('#df-89778b5e-d069-49fb-9655-25c7a210731d');\n",
       "          const dataTable =\n",
       "            await google.colab.kernel.invokeFunction('convertToInteractive',\n",
       "                                                     [key], {});\n",
       "          if (!dataTable) return;\n",
       "\n",
       "          const docLinkHtml = 'Like what you see? Visit the ' +\n",
       "            '<a target=\"_blank\" href=https://colab.research.google.com/notebooks/data_table.ipynb>data table notebook</a>'\n",
       "            + ' to learn more about interactive tables.';\n",
       "          element.innerHTML = '';\n",
       "          dataTable['output_type'] = 'display_data';\n",
       "          await google.colab.output.renderOutput(dataTable, element);\n",
       "          const docLink = document.createElement('div');\n",
       "          docLink.innerHTML = docLinkHtml;\n",
       "          element.appendChild(docLink);\n",
       "        }\n",
       "      </script>\n",
       "    </div>\n",
       "  </div>\n",
       "  "
      ],
      "text/plain": [
       "                  time          id      amount  ...    close   count            vol\n",
       "0  2020-01-01 00:00:00  1577808000  102.743804  ...  7200.00     497  738706.346176\n",
       "1  2020-01-01 00:01:00  1577808060   70.711661  ...  7218.20     448  509693.211491\n",
       "2  2020-01-01 00:02:00  1577808120   17.445960  ...  7216.22     248  125889.775364\n",
       "3  2020-01-01 00:03:00  1577808180   13.034606  ...  7218.37     300   94091.100831\n",
       "4  2020-01-01 00:04:00  1577808240   14.004800  ...  7213.05     279  101042.531802\n",
       "\n",
       "[5 rows x 9 columns]"
      ]
     },
     "execution_count": 5,
     "metadata": {},
     "output_type": "execute_result"
    }
   ],
   "source": [
    "data_btc.head(5)"
   ]
  },
  {
   "cell_type": "markdown",
   "metadata": {
    "id": "i-_WKavxPeaO"
   },
   "source": [
    "### Check for missing values"
   ]
  },
  {
   "cell_type": "code",
   "execution_count": null,
   "metadata": {
    "colab": {
     "base_uri": "https://localhost:8080/"
    },
    "id": "dTO9UUUn8YDr",
    "outputId": "22976bb8-4a79-426b-9b1d-8bf1e5f02e77"
   },
   "outputs": [
    {
     "name": "stdout",
     "output_type": "stream",
     "text": [
      "False\n",
      "False\n",
      "False\n",
      "False\n",
      "False\n"
     ]
    }
   ],
   "source": [
    "#Check missing values\n",
    "print(data_ada.isnull().values.any())\n",
    "print(data_btc.isnull().values.any())\n",
    "print(data_doge.isnull().values.any())\n",
    "print(data_eth.isnull().values.any())\n",
    "print(data_ltc.isnull().values.any())"
   ]
  },
  {
   "cell_type": "markdown",
   "metadata": {
    "id": "M2_vpx30Pk8I"
   },
   "source": [
    "### Fix up the names of the columns"
   ]
  },
  {
   "cell_type": "code",
   "execution_count": null,
   "metadata": {
    "id": "84GklUO0DbdJ"
   },
   "outputs": [],
   "source": [
    "#Fix the problem of column names containing empty string in the beginning\n",
    "data_ada.columns = data_ada.columns.str.replace(' ','')\n",
    "data_btc.columns = data_btc.columns.str.replace(' ','')\n",
    "data_doge.columns = data_doge.columns.str.replace(' ','')\n",
    "data_eth.columns = data_eth.columns.str.replace(' ','')\n",
    "data_ltc.columns = data_ltc.columns.str.replace(' ','')"
   ]
  },
  {
   "cell_type": "markdown",
   "metadata": {
    "id": "ou52jjrYaQQK"
   },
   "source": [
    "## Feature Engineering and Labeling"
   ]
  },
  {
   "cell_type": "markdown",
   "metadata": {
    "id": "xBfPZc4jPy05"
   },
   "source": [
    "### Calculation of RSI value"
   ]
  },
  {
   "cell_type": "code",
   "execution_count": null,
   "metadata": {
    "id": "I1wyDdxIfrfJ"
   },
   "outputs": [],
   "source": [
    "def RSI(df, n=14):\n",
    "    delta = df['close'].diff()\n",
    "\n",
    "    gainers= delta[delta > 0]\n",
    "    losers= delta[delta < 0]\n",
    "\n",
    "    ave_gain=gainers.rolling(n).mean()\n",
    "    ave_loss=losers.rolling(n).mean().abs()\n",
    "\n",
    "\n",
    "    ave_gain = ave_gain.reindex_like(delta, method='ffill')\n",
    "    ave_loss = ave_loss.reindex_like(delta, method='ffill')\n",
    "    RS = ave_gain / ave_loss\n",
    "    rsi= 100.0 - (100.0 / (1.0 + RS))\n",
    "    return rsi"
   ]
  },
  {
   "cell_type": "markdown",
   "metadata": {
    "id": "ReyLCRIWP47O"
   },
   "source": [
    "### Calculation of bollinger bands"
   ]
  },
  {
   "cell_type": "code",
   "execution_count": null,
   "metadata": {
    "id": "kn7-zOjymORY"
   },
   "outputs": [],
   "source": [
    "def get_bollinger_bands(df):\n",
    "    sma_20 = df[\"20-SMA\"]\n",
    "    std = sma_20.std()\n",
    "    bollinger_up = sma_20 + std * 2 # Calculate top band\n",
    "    bollinger_down = sma_20 - std * 2 # Calculate bottom band\n",
    "    return bollinger_up, bollinger_down"
   ]
  },
  {
   "cell_type": "markdown",
   "metadata": {
    "id": "0jwFIwjSQGlV"
   },
   "source": [
    "### Create labels based on minute returns from closing prices"
   ]
  },
  {
   "cell_type": "code",
   "execution_count": null,
   "metadata": {
    "id": "Ldg5h2CY4PSa"
   },
   "outputs": [],
   "source": [
    "def create_labels(df):\n",
    "  delta = df['close'].diff(periods=-1)\n",
    "  y=pd.DataFrame((delta < 0).astype(int))\n",
    "  y=y.rename(columns={\"close\": \"y\"})\n",
    "  return y"
   ]
  },
  {
   "cell_type": "markdown",
   "metadata": {
    "id": "c7qidvVXP8Po"
   },
   "source": [
    "### Introducing features including EMAs and SMAs as new columns to the dataframe"
   ]
  },
  {
   "cell_type": "code",
   "execution_count": null,
   "metadata": {
    "id": "kQkvwoQ6CJnp"
   },
   "outputs": [],
   "source": [
    "def create_features(df, shifts=[1,2,3,4,5]):\n",
    "    X = pd.DataFrame(index=df.index)\n",
    "    for m in shifts:\n",
    "      X[\"return\"+\"-\"+str(m)] = df[\"close\"].pct_change(periods=m)  #adds m-min return\n",
    "    for column in df.columns[2:]:\n",
    "      X[column]=df[column]\n",
    "    X[\"range\"]=df[\"high\"]-df[\"low\"]\n",
    "    X[\"7-SMA\"]=X[\"close\"].rolling(window=7).mean()\n",
    "    X[\"14-SMA\"]=X[\"close\"].rolling(window=14).mean()\n",
    "    X[\"20-SMA\"]=X[\"close\"].rolling(window=20).mean()\n",
    "    bol_up, bol_down=get_bollinger_bands(X)\n",
    "    X[\"DistanceFromBollingerUp\"] = bol_up - X[\"close\"]\n",
    "    X[\"DistanceFromBollingerDown\"] = X[\"close\"] - bol_down\n",
    "    X[\"7-EMA\"]=X[\"close\"].ewm(span=7, min_periods=7).mean()\n",
    "    X[\"14-EMA\"]=X[\"close\"].ewm(span=14, min_periods=14).mean()\n",
    "    X[\"MACD\"]=X[\"close\"].ewm(span=12, min_periods=12).mean()-X[\"close\"].ewm(span=26, min_periods=26).mean()\n",
    "    X[\"RSI\"]=RSI(df, 14)\n",
    "    return X.dropna()"
   ]
  },
  {
   "cell_type": "markdown",
   "metadata": {
    "id": "si32OFbLQSfe"
   },
   "source": [
    "Example view of final version of the data"
   ]
  },
  {
   "cell_type": "code",
   "execution_count": null,
   "metadata": {
    "colab": {
     "base_uri": "https://localhost:8080/",
     "height": 223
    },
    "id": "ohOU6pvkhMEc",
    "outputId": "f27a03cf-2e75-4382-a644-de7284372269"
   },
   "outputs": [
    {
     "data": {
      "text/html": [
       "\n",
       "  <div id=\"df-8c1109a9-8af4-47ba-965e-5d6371ba9811\">\n",
       "    <div class=\"colab-df-container\">\n",
       "      <div>\n",
       "<style scoped>\n",
       "    .dataframe tbody tr th:only-of-type {\n",
       "        vertical-align: middle;\n",
       "    }\n",
       "\n",
       "    .dataframe tbody tr th {\n",
       "        vertical-align: top;\n",
       "    }\n",
       "\n",
       "    .dataframe thead th {\n",
       "        text-align: right;\n",
       "    }\n",
       "</style>\n",
       "<table border=\"1\" class=\"dataframe\">\n",
       "  <thead>\n",
       "    <tr style=\"text-align: right;\">\n",
       "      <th></th>\n",
       "      <th>return-1</th>\n",
       "      <th>return-2</th>\n",
       "      <th>return-3</th>\n",
       "      <th>return-4</th>\n",
       "      <th>return-5</th>\n",
       "      <th>amount</th>\n",
       "      <th>open</th>\n",
       "      <th>high</th>\n",
       "      <th>low</th>\n",
       "      <th>close</th>\n",
       "      <th>count</th>\n",
       "      <th>vol</th>\n",
       "      <th>range</th>\n",
       "      <th>7-SMA</th>\n",
       "      <th>14-SMA</th>\n",
       "      <th>20-SMA</th>\n",
       "      <th>DistanceFromBollingerUp</th>\n",
       "      <th>DistanceFromBollingerDown</th>\n",
       "      <th>7-EMA</th>\n",
       "      <th>14-EMA</th>\n",
       "      <th>MACD</th>\n",
       "      <th>RSI</th>\n",
       "    </tr>\n",
       "  </thead>\n",
       "  <tbody>\n",
       "    <tr>\n",
       "      <th>28</th>\n",
       "      <td>0.000809</td>\n",
       "      <td>0.000183</td>\n",
       "      <td>0.000482</td>\n",
       "      <td>0.000486</td>\n",
       "      <td>0.000039</td>\n",
       "      <td>19.491650</td>\n",
       "      <td>7216.43</td>\n",
       "      <td>7221.32</td>\n",
       "      <td>7216.36</td>\n",
       "      <td>7221.32</td>\n",
       "      <td>61</td>\n",
       "      <td>140662.048511</td>\n",
       "      <td>4.96</td>\n",
       "      <td>7218.654286</td>\n",
       "      <td>7216.091429</td>\n",
       "      <td>7214.294</td>\n",
       "      <td>35709.025083</td>\n",
       "      <td>35723.077083</td>\n",
       "      <td>7218.471305</td>\n",
       "      <td>7216.962021</td>\n",
       "      <td>1.673359</td>\n",
       "      <td>57.999400</td>\n",
       "    </tr>\n",
       "    <tr>\n",
       "      <th>29</th>\n",
       "      <td>0.000219</td>\n",
       "      <td>0.001028</td>\n",
       "      <td>0.000402</td>\n",
       "      <td>0.000701</td>\n",
       "      <td>0.000705</td>\n",
       "      <td>5.670964</td>\n",
       "      <td>7220.44</td>\n",
       "      <td>7222.90</td>\n",
       "      <td>7218.18</td>\n",
       "      <td>7222.90</td>\n",
       "      <td>91</td>\n",
       "      <td>40944.090834</td>\n",
       "      <td>4.72</td>\n",
       "      <td>7219.484286</td>\n",
       "      <td>7216.912857</td>\n",
       "      <td>7214.618</td>\n",
       "      <td>35707.769083</td>\n",
       "      <td>35724.333083</td>\n",
       "      <td>7219.578676</td>\n",
       "      <td>7217.764719</td>\n",
       "      <td>1.939848</td>\n",
       "      <td>52.014746</td>\n",
       "    </tr>\n",
       "    <tr>\n",
       "      <th>30</th>\n",
       "      <td>0.000233</td>\n",
       "      <td>0.000451</td>\n",
       "      <td>0.001261</td>\n",
       "      <td>0.000634</td>\n",
       "      <td>0.000934</td>\n",
       "      <td>19.967501</td>\n",
       "      <td>7222.91</td>\n",
       "      <td>7225.71</td>\n",
       "      <td>7221.75</td>\n",
       "      <td>7224.58</td>\n",
       "      <td>128</td>\n",
       "      <td>144235.501834</td>\n",
       "      <td>3.96</td>\n",
       "      <td>7219.990000</td>\n",
       "      <td>7218.226429</td>\n",
       "      <td>7215.450</td>\n",
       "      <td>35706.921083</td>\n",
       "      <td>35725.181083</td>\n",
       "      <td>7220.829175</td>\n",
       "      <td>7218.684313</td>\n",
       "      <td>2.248379</td>\n",
       "      <td>51.820608</td>\n",
       "    </tr>\n",
       "  </tbody>\n",
       "</table>\n",
       "</div>\n",
       "      <button class=\"colab-df-convert\" onclick=\"convertToInteractive('df-8c1109a9-8af4-47ba-965e-5d6371ba9811')\"\n",
       "              title=\"Convert this dataframe to an interactive table.\"\n",
       "              style=\"display:none;\">\n",
       "        \n",
       "  <svg xmlns=\"http://www.w3.org/2000/svg\" height=\"24px\"viewBox=\"0 0 24 24\"\n",
       "       width=\"24px\">\n",
       "    <path d=\"M0 0h24v24H0V0z\" fill=\"none\"/>\n",
       "    <path d=\"M18.56 5.44l.94 2.06.94-2.06 2.06-.94-2.06-.94-.94-2.06-.94 2.06-2.06.94zm-11 1L8.5 8.5l.94-2.06 2.06-.94-2.06-.94L8.5 2.5l-.94 2.06-2.06.94zm10 10l.94 2.06.94-2.06 2.06-.94-2.06-.94-.94-2.06-.94 2.06-2.06.94z\"/><path d=\"M17.41 7.96l-1.37-1.37c-.4-.4-.92-.59-1.43-.59-.52 0-1.04.2-1.43.59L10.3 9.45l-7.72 7.72c-.78.78-.78 2.05 0 2.83L4 21.41c.39.39.9.59 1.41.59.51 0 1.02-.2 1.41-.59l7.78-7.78 2.81-2.81c.8-.78.8-2.07 0-2.86zM5.41 20L4 18.59l7.72-7.72 1.47 1.35L5.41 20z\"/>\n",
       "  </svg>\n",
       "      </button>\n",
       "      \n",
       "  <style>\n",
       "    .colab-df-container {\n",
       "      display:flex;\n",
       "      flex-wrap:wrap;\n",
       "      gap: 12px;\n",
       "    }\n",
       "\n",
       "    .colab-df-convert {\n",
       "      background-color: #E8F0FE;\n",
       "      border: none;\n",
       "      border-radius: 50%;\n",
       "      cursor: pointer;\n",
       "      display: none;\n",
       "      fill: #1967D2;\n",
       "      height: 32px;\n",
       "      padding: 0 0 0 0;\n",
       "      width: 32px;\n",
       "    }\n",
       "\n",
       "    .colab-df-convert:hover {\n",
       "      background-color: #E2EBFA;\n",
       "      box-shadow: 0px 1px 2px rgba(60, 64, 67, 0.3), 0px 1px 3px 1px rgba(60, 64, 67, 0.15);\n",
       "      fill: #174EA6;\n",
       "    }\n",
       "\n",
       "    [theme=dark] .colab-df-convert {\n",
       "      background-color: #3B4455;\n",
       "      fill: #D2E3FC;\n",
       "    }\n",
       "\n",
       "    [theme=dark] .colab-df-convert:hover {\n",
       "      background-color: #434B5C;\n",
       "      box-shadow: 0px 1px 3px 1px rgba(0, 0, 0, 0.15);\n",
       "      filter: drop-shadow(0px 1px 2px rgba(0, 0, 0, 0.3));\n",
       "      fill: #FFFFFF;\n",
       "    }\n",
       "  </style>\n",
       "\n",
       "      <script>\n",
       "        const buttonEl =\n",
       "          document.querySelector('#df-8c1109a9-8af4-47ba-965e-5d6371ba9811 button.colab-df-convert');\n",
       "        buttonEl.style.display =\n",
       "          google.colab.kernel.accessAllowed ? 'block' : 'none';\n",
       "\n",
       "        async function convertToInteractive(key) {\n",
       "          const element = document.querySelector('#df-8c1109a9-8af4-47ba-965e-5d6371ba9811');\n",
       "          const dataTable =\n",
       "            await google.colab.kernel.invokeFunction('convertToInteractive',\n",
       "                                                     [key], {});\n",
       "          if (!dataTable) return;\n",
       "\n",
       "          const docLinkHtml = 'Like what you see? Visit the ' +\n",
       "            '<a target=\"_blank\" href=https://colab.research.google.com/notebooks/data_table.ipynb>data table notebook</a>'\n",
       "            + ' to learn more about interactive tables.';\n",
       "          element.innerHTML = '';\n",
       "          dataTable['output_type'] = 'display_data';\n",
       "          await google.colab.output.renderOutput(dataTable, element);\n",
       "          const docLink = document.createElement('div');\n",
       "          docLink.innerHTML = docLinkHtml;\n",
       "          element.appendChild(docLink);\n",
       "        }\n",
       "      </script>\n",
       "    </div>\n",
       "  </div>\n",
       "  "
      ],
      "text/plain": [
       "    return-1  return-2  return-3  ...       14-EMA      MACD        RSI\n",
       "28  0.000809  0.000183  0.000482  ...  7216.962021  1.673359  57.999400\n",
       "29  0.000219  0.001028  0.000402  ...  7217.764719  1.939848  52.014746\n",
       "30  0.000233  0.000451  0.001261  ...  7218.684313  2.248379  51.820608\n",
       "\n",
       "[3 rows x 22 columns]"
      ]
     },
     "execution_count": 12,
     "metadata": {},
     "output_type": "execute_result"
    }
   ],
   "source": [
    "ada_X = create_features(data_ada)\n",
    "btc_X = create_features(data_btc)\n",
    "doge_X = create_features(data_doge)\n",
    "eth_X = create_features(data_eth)\n",
    "ltc_X = create_features(data_ltc)\n",
    "btc_X.head(3)"
   ]
  },
  {
   "cell_type": "markdown",
   "metadata": {
    "id": "GjxlsuR-QZvw"
   },
   "source": [
    "Example view of final version of the labels"
   ]
  },
  {
   "cell_type": "code",
   "execution_count": null,
   "metadata": {
    "colab": {
     "base_uri": "https://localhost:8080/",
     "height": 204
    },
    "id": "vD3cxi2X4yv1",
    "outputId": "c274c651-7895-4868-809b-f13e778bd2f9"
   },
   "outputs": [
    {
     "data": {
      "text/html": [
       "\n",
       "  <div id=\"df-ae0f8a46-a8ed-4b0b-b532-73e22569b21e\">\n",
       "    <div class=\"colab-df-container\">\n",
       "      <div>\n",
       "<style scoped>\n",
       "    .dataframe tbody tr th:only-of-type {\n",
       "        vertical-align: middle;\n",
       "    }\n",
       "\n",
       "    .dataframe tbody tr th {\n",
       "        vertical-align: top;\n",
       "    }\n",
       "\n",
       "    .dataframe thead th {\n",
       "        text-align: right;\n",
       "    }\n",
       "</style>\n",
       "<table border=\"1\" class=\"dataframe\">\n",
       "  <thead>\n",
       "    <tr style=\"text-align: right;\">\n",
       "      <th></th>\n",
       "      <th>y</th>\n",
       "    </tr>\n",
       "  </thead>\n",
       "  <tbody>\n",
       "    <tr>\n",
       "      <th>28</th>\n",
       "      <td>1</td>\n",
       "    </tr>\n",
       "    <tr>\n",
       "      <th>29</th>\n",
       "      <td>1</td>\n",
       "    </tr>\n",
       "    <tr>\n",
       "      <th>30</th>\n",
       "      <td>1</td>\n",
       "    </tr>\n",
       "    <tr>\n",
       "      <th>31</th>\n",
       "      <td>0</td>\n",
       "    </tr>\n",
       "    <tr>\n",
       "      <th>32</th>\n",
       "      <td>1</td>\n",
       "    </tr>\n",
       "  </tbody>\n",
       "</table>\n",
       "</div>\n",
       "      <button class=\"colab-df-convert\" onclick=\"convertToInteractive('df-ae0f8a46-a8ed-4b0b-b532-73e22569b21e')\"\n",
       "              title=\"Convert this dataframe to an interactive table.\"\n",
       "              style=\"display:none;\">\n",
       "        \n",
       "  <svg xmlns=\"http://www.w3.org/2000/svg\" height=\"24px\"viewBox=\"0 0 24 24\"\n",
       "       width=\"24px\">\n",
       "    <path d=\"M0 0h24v24H0V0z\" fill=\"none\"/>\n",
       "    <path d=\"M18.56 5.44l.94 2.06.94-2.06 2.06-.94-2.06-.94-.94-2.06-.94 2.06-2.06.94zm-11 1L8.5 8.5l.94-2.06 2.06-.94-2.06-.94L8.5 2.5l-.94 2.06-2.06.94zm10 10l.94 2.06.94-2.06 2.06-.94-2.06-.94-.94-2.06-.94 2.06-2.06.94z\"/><path d=\"M17.41 7.96l-1.37-1.37c-.4-.4-.92-.59-1.43-.59-.52 0-1.04.2-1.43.59L10.3 9.45l-7.72 7.72c-.78.78-.78 2.05 0 2.83L4 21.41c.39.39.9.59 1.41.59.51 0 1.02-.2 1.41-.59l7.78-7.78 2.81-2.81c.8-.78.8-2.07 0-2.86zM5.41 20L4 18.59l7.72-7.72 1.47 1.35L5.41 20z\"/>\n",
       "  </svg>\n",
       "      </button>\n",
       "      \n",
       "  <style>\n",
       "    .colab-df-container {\n",
       "      display:flex;\n",
       "      flex-wrap:wrap;\n",
       "      gap: 12px;\n",
       "    }\n",
       "\n",
       "    .colab-df-convert {\n",
       "      background-color: #E8F0FE;\n",
       "      border: none;\n",
       "      border-radius: 50%;\n",
       "      cursor: pointer;\n",
       "      display: none;\n",
       "      fill: #1967D2;\n",
       "      height: 32px;\n",
       "      padding: 0 0 0 0;\n",
       "      width: 32px;\n",
       "    }\n",
       "\n",
       "    .colab-df-convert:hover {\n",
       "      background-color: #E2EBFA;\n",
       "      box-shadow: 0px 1px 2px rgba(60, 64, 67, 0.3), 0px 1px 3px 1px rgba(60, 64, 67, 0.15);\n",
       "      fill: #174EA6;\n",
       "    }\n",
       "\n",
       "    [theme=dark] .colab-df-convert {\n",
       "      background-color: #3B4455;\n",
       "      fill: #D2E3FC;\n",
       "    }\n",
       "\n",
       "    [theme=dark] .colab-df-convert:hover {\n",
       "      background-color: #434B5C;\n",
       "      box-shadow: 0px 1px 3px 1px rgba(0, 0, 0, 0.15);\n",
       "      filter: drop-shadow(0px 1px 2px rgba(0, 0, 0, 0.3));\n",
       "      fill: #FFFFFF;\n",
       "    }\n",
       "  </style>\n",
       "\n",
       "      <script>\n",
       "        const buttonEl =\n",
       "          document.querySelector('#df-ae0f8a46-a8ed-4b0b-b532-73e22569b21e button.colab-df-convert');\n",
       "        buttonEl.style.display =\n",
       "          google.colab.kernel.accessAllowed ? 'block' : 'none';\n",
       "\n",
       "        async function convertToInteractive(key) {\n",
       "          const element = document.querySelector('#df-ae0f8a46-a8ed-4b0b-b532-73e22569b21e');\n",
       "          const dataTable =\n",
       "            await google.colab.kernel.invokeFunction('convertToInteractive',\n",
       "                                                     [key], {});\n",
       "          if (!dataTable) return;\n",
       "\n",
       "          const docLinkHtml = 'Like what you see? Visit the ' +\n",
       "            '<a target=\"_blank\" href=https://colab.research.google.com/notebooks/data_table.ipynb>data table notebook</a>'\n",
       "            + ' to learn more about interactive tables.';\n",
       "          element.innerHTML = '';\n",
       "          dataTable['output_type'] = 'display_data';\n",
       "          await google.colab.output.renderOutput(dataTable, element);\n",
       "          const docLink = document.createElement('div');\n",
       "          docLink.innerHTML = docLinkHtml;\n",
       "          element.appendChild(docLink);\n",
       "        }\n",
       "      </script>\n",
       "    </div>\n",
       "  </div>\n",
       "  "
      ],
      "text/plain": [
       "    y\n",
       "28  1\n",
       "29  1\n",
       "30  1\n",
       "31  0\n",
       "32  1"
      ]
     },
     "execution_count": 13,
     "metadata": {},
     "output_type": "execute_result"
    }
   ],
   "source": [
    "ada_y = create_labels(ada_X)\n",
    "btc_y = create_labels(btc_X)\n",
    "doge_y = create_labels(doge_X)\n",
    "eth_y = create_labels(eth_X)\n",
    "ltc_y = create_labels(ltc_X)\n",
    "btc_y.head(5)"
   ]
  },
  {
   "cell_type": "markdown",
   "metadata": {
    "id": "drkoxENfaj4O"
   },
   "source": [
    "## Feature Selection"
   ]
  },
  {
   "cell_type": "markdown",
   "metadata": {
    "id": "ErvgXVD43uCV"
   },
   "source": [
    "### Value Density Visualization"
   ]
  },
  {
   "cell_type": "code",
   "execution_count": null,
   "metadata": {
    "colab": {
     "base_uri": "https://localhost:8080/",
     "height": 1000
    },
    "id": "HHOGDq9dyqPi",
    "outputId": "528b8840-8e5a-4c9c-cbd1-50ad5509deec"
   },
   "outputs": [
    {
     "data": {
      "image/png": "[encoded data removed]",
      "text/plain": [
       "<Figure size 1482.38x2160 with 22 Axes>"
      ]
     },
     "metadata": {},
     "output_type": "display_data"
    }
   ],
   "source": [
    "plot_df = pd.concat([btc_X, btc_y], axis=1)\n",
    "plot_df = pd.melt(plot_df, plot_df.columns[-1], plot_df.columns[:-1])\n",
    "sns.set_style(\"whitegrid\")\n",
    "g = sns.FacetGrid(plot_df, col=\"variable\", hue=\"y\", col_wrap=4, sharex=False, sharey=False, height=5)\n",
    "g.map(sns.kdeplot, \"value\", shade=True)\n",
    "g.add_legend()\n",
    "plt.show()"
   ]
  },
  {
   "cell_type": "markdown",
   "metadata": {
    "id": "ET3ni-qJ3wpt"
   },
   "source": [
    "### Filter based/Model agnostic feature selection\n",
    "\n"
   ]
  },
  {
   "cell_type": "code",
   "execution_count": null,
   "metadata": {
    "colab": {
     "base_uri": "https://localhost:8080/",
     "height": 1000
    },
    "id": "cxBqTnqaKOjn",
    "outputId": "e5f5052a-e734-41e4-df2c-b76f4a020405"
   },
   "outputs": [
    {
     "data": {
      "image/png": "[encoded data removed]",
      "text/plain": [
       "<Figure size 720x1296 with 1 Axes>"
      ]
     },
     "metadata": {},
     "output_type": "display_data"
    }
   ],
   "source": [
    "#Standard Scaler ekle\n",
    "ss = StandardScaler()\n",
    "corr_df = pd.concat([btc_X, btc_y], axis=1)\n",
    "corr_df = pd.DataFrame(ss.fit_transform(corr_df),columns = corr_df.columns)\n",
    "corrmat = corr_df.corr(method='pearson', min_periods=1000)\n",
    "# plot absolute values\n",
    "corrmat = np.abs(corrmat)\n",
    "corr_target = corrmat['y'].reset_index()[:-1]\n",
    "corr_target.columns = ['feature','abs_corr']\n",
    "corr_target = corr_target.sort_values(by = 'abs_corr', ascending = True)\n",
    "ind = np.arange(corr_target.shape[0])\n",
    "width = 0.9\n",
    "fig, ax = plt.subplots(figsize=(10,18))\n",
    "rects = ax.barh(ind, corr_target.abs_corr.values, color='r')\n",
    "ax.set_yticks(ind)\n",
    "ax.set_yticklabels(corr_target.feature.values, rotation='horizontal')\n",
    "ax.set_xlabel(\"absolute corr\", fontsize = 14)\n",
    "ax.set_title(\"Bitcoin --- Correlations between features and target \", fontsize = 18)\n",
    "plt.show()"
   ]
  },
  {
   "cell_type": "markdown",
   "metadata": {
    "id": "ocHzCNTdAWDt"
   },
   "source": [
    "### Embedded/Model dependent feature selection\n",
    "\n",
    "Tree-based: SelectFromModel\n",
    "\n",
    "\n"
   ]
  },
  {
   "cell_type": "markdown",
   "metadata": {
    "id": "4m4v_XQ3PZBW"
   },
   "source": [
    "### Random Forest SelectFromModel"
   ]
  },
  {
   "cell_type": "code",
   "execution_count": null,
   "metadata": {
    "colab": {
     "base_uri": "https://localhost:8080/"
    },
    "id": "S7DbCzsvflu3",
    "outputId": "6a8dcb59-119b-47b3-fe5f-91ea5401770c"
   },
   "outputs": [
    {
     "name": "stdout",
     "output_type": "stream",
     "text": [
      "13 selected features:\n",
      "['return-1', 'return-2', 'return-3', 'return-4', 'return-5', 'amount', 'count', 'vol', 'range', 'DistanceFromBollingerUp', 'DistanceFromBollingerDown', 'MACD', 'RSI']\n"
     ]
    }
   ],
   "source": [
    "ss = StandardScaler()\n",
    "num_feats = len(btc_X.columns)\n",
    "btc_X_scaled = pd.DataFrame(ss.fit_transform(btc_X),columns = btc_X.columns)\n",
    "\n",
    "embedded_rf_selector = SelectFromModel(RandomForestClassifier(n_estimators=100), max_features=num_feats)\n",
    "embedded_rf_selector.fit(btc_X_scaled.iloc[0:100000,:], np.asarray(btc_y.iloc[0:100000]).flatten())\n",
    "embedded_rf_support = embedded_rf_selector.get_support()\n",
    "embedded_rf_features = btc_X_scaled.loc[:,embedded_rf_support].columns.tolist()\n",
    "print(str(len(embedded_rf_features)), 'selected features:')\n",
    "print(embedded_rf_features)"
   ]
  },
  {
   "cell_type": "code",
   "execution_count": null,
   "metadata": {
    "colab": {
     "base_uri": "https://localhost:8080/"
    },
    "id": "Ft1L4fCF95F7",
    "outputId": "523a3190-250d-4a36-dda5-f0856e4aca01"
   },
   "outputs": [
    {
     "name": "stdout",
     "output_type": "stream",
     "text": [
      "RandomForestClassifier - Feature Importance:\n",
      "\n",
      "                      Variable  absCoefficient\n",
      "0                    return-1        0.060007\n",
      "4                    return-5        0.058905\n",
      "1                    return-2        0.058773\n",
      "2                    return-3        0.058588\n",
      "3                    return-4        0.058354\n",
      "21                        RSI        0.058313\n",
      "20                       MACD        0.057466\n",
      "12                      range        0.056676\n",
      "10                      count        0.053894\n",
      "11                        vol        0.052199\n",
      "17  DistanceFromBollingerDown        0.051825\n",
      "5                      amount        0.051726\n",
      "16    DistanceFromBollingerUp        0.051646\n",
      "15                     20-SMA        0.031147\n",
      "14                     14-SMA        0.030578\n",
      "6                        open        0.030266\n",
      "8                         low        0.030212\n",
      "7                        high        0.030117\n",
      "13                      7-SMA        0.030086\n",
      "19                     14-EMA        0.030070\n",
      "9                       close        0.029690\n",
      "18                      7-EMA        0.029460 \n",
      "\n"
     ]
    }
   ],
   "source": [
    "model=RandomForestClassifier(n_estimators=100)\n",
    "model.fit(btc_X_scaled.iloc[0:100000,:], np.asarray(btc_y.iloc[0:100000]).flatten())\n",
    "coefficients = model.feature_importances_\n",
    "absCoefficients = abs(coefficients)\n",
    "columns = btc_X_scaled.columns\n",
    "fullList = pd.concat((pd.DataFrame(columns, columns = ['Variable']), pd.DataFrame(absCoefficients, columns = ['absCoefficient'])), axis = 1).sort_values(by='absCoefficient', ascending = False)\n",
    "print('RandomForestClassifier - Feature Importance:')\n",
    "print('\\n',fullList,'\\n')"
   ]
  },
  {
   "cell_type": "markdown",
   "metadata": {
    "id": "tnJ5elsjPeZj"
   },
   "source": [
    "### Light Gradient Boosting Machine SelectFromModel"
   ]
  },
  {
   "cell_type": "code",
   "execution_count": null,
   "metadata": {
    "colab": {
     "base_uri": "https://localhost:8080/"
    },
    "id": "SGaUeItyMqh0",
    "outputId": "a36036a0-1cf6-4f5e-b1ce-f5a148026d35"
   },
   "outputs": [
    {
     "name": "stdout",
     "output_type": "stream",
     "text": [
      "12 selected features\n",
      "['return-1', 'return-2', 'return-3', 'return-4', 'return-5', 'amount', 'count', 'vol', 'range', 'DistanceFromBollingerUp', 'MACD', 'RSI']\n"
     ]
    }
   ],
   "source": [
    "lgbc=LGBMClassifier(n_estimators=500, learning_rate=0.05, num_leaves=32, colsample_bytree=0.2,\n",
    "            reg_alpha=3, reg_lambda=1, min_split_gain=0.01, min_child_weight=40)\n",
    "\n",
    "embedded_lgb_selector = SelectFromModel(lgbc, max_features=num_feats)\n",
    "embedded_lgb_selector.fit(btc_X_scaled.iloc[0:100000,:], np.asarray(btc_y.iloc[0:100000]).flatten())\n",
    "\n",
    "embedded_lgb_support = embedded_lgb_selector.get_support()\n",
    "embedded_lgb_features = btc_X_scaled.loc[:,embedded_lgb_support].columns.tolist()\n",
    "print(str(len(embedded_lgb_features)), 'selected features')\n",
    "print(embedded_lgb_features)"
   ]
  },
  {
   "cell_type": "code",
   "execution_count": null,
   "metadata": {
    "colab": {
     "base_uri": "https://localhost:8080/"
    },
    "id": "SCNNPmYVOUpK",
    "outputId": "1d91991f-ee63-4a90-8f9d-b109e19b5b42"
   },
   "outputs": [
    {
     "name": "stdout",
     "output_type": "stream",
     "text": [
      "LGBMCClassifier - Feature Importance:\n",
      "\n",
      "                      Variable  absCoefficient\n",
      "21                        RSI            1017\n",
      "10                      count             923\n",
      "12                      range             913\n",
      "20                       MACD             833\n",
      "4                    return-5             831\n",
      "11                        vol             811\n",
      "2                    return-3             803\n",
      "3                    return-4             768\n",
      "1                    return-2             751\n",
      "16    DistanceFromBollingerUp             746\n",
      "5                      amount             725\n",
      "0                    return-1             708\n",
      "17  DistanceFromBollingerDown             682\n",
      "15                     20-SMA             655\n",
      "9                       close             594\n",
      "14                     14-SMA             570\n",
      "19                     14-EMA             550\n",
      "13                      7-SMA             548\n",
      "18                      7-EMA             541\n",
      "8                         low             538\n",
      "6                        open             527\n",
      "7                        high             466 \n",
      "\n"
     ]
    }
   ],
   "source": [
    "model=LGBMClassifier(n_estimators=500, learning_rate=0.05, num_leaves=32, colsample_bytree=0.2,\n",
    "            reg_alpha=3, reg_lambda=1, min_split_gain=0.01, min_child_weight=40)\n",
    "model.fit(btc_X_scaled.iloc[0:100000,:], np.asarray(btc_y.iloc[0:100000]).flatten())\n",
    "coefficients = model.feature_importances_\n",
    "absCoefficients = abs(coefficients)\n",
    "columns = btc_X_scaled.columns\n",
    "fullList = pd.concat((pd.DataFrame(columns, columns = ['Variable']), pd.DataFrame(absCoefficients, columns = ['absCoefficient'])), axis = 1).sort_values(by='absCoefficient', ascending = False)\n",
    "print('LGBMCClassifier - Feature Importance:')\n",
    "print('\\n',fullList,'\\n')"
   ]
  },
  {
   "cell_type": "code",
   "execution_count": null,
   "metadata": {
    "colab": {
     "base_uri": "https://localhost:8080/"
    },
    "id": "NPlAqFUbgjfj",
    "outputId": "22a07065-682f-4e12-841e-829cb8d8b2ee"
   },
   "outputs": [
    {
     "name": "stdout",
     "output_type": "stream",
     "text": [
      "13 selected features:\n",
      "['return-1', 'return-2', 'return-3', 'return-4', 'return-5', 'amount', 'count', 'vol', 'range', 'DistanceFromBollingerUp', 'DistanceFromBollingerDown', 'MACD', 'RSI']\n"
     ]
    }
   ],
   "source": [
    "selected_features = embedded_rf_features\n",
    "print(str(len(embedded_rf_features)), 'selected features:')\n",
    "print(selected_features)"
   ]
  },
  {
   "cell_type": "markdown",
   "metadata": {
    "id": "DivD3aVrQeZz"
   },
   "source": [
    "### Use blocking time series split for validation, split data set into training-validation-test"
   ]
  },
  {
   "cell_type": "code",
   "execution_count": null,
   "metadata": {
    "id": "C6_6h1UEoXKj"
   },
   "outputs": [],
   "source": [
    "def create_training_data(X, y, train_ratio=0.8, fold=10):\n",
    "  train_window_size = int(len(X)*train_ratio/fold*train_ratio)\n",
    "  valid_window_size = int(len(X)*train_ratio/fold*(1-train_ratio))\n",
    "  test_window_size = int(len(X)*(1-train_ratio))\n",
    "\n",
    "  test_X = X.tail(int(len(X)*(1-train_ratio)))\n",
    "  test_y = y.tail(int(len(X)*(1-train_ratio)))\n",
    "  \n",
    "  train_valid_X = X.head(int(len(X)*(train_ratio)))\n",
    "  train_valid_y = y.head(int(len(X)*(train_ratio)))\n",
    "\n",
    "  return np.asarray(train_valid_X), np.asarray(train_valid_y).flatten(),  np.asarray(test_X), np.asarray(test_y).flatten()"
   ]
  },
  {
   "cell_type": "code",
   "execution_count": null,
   "metadata": {
    "id": "hA_VvdqfXFW8"
   },
   "outputs": [],
   "source": [
    "ada_train_valid_X, ada_train_valid_y, ada_test_X, ada_test_y = create_training_data(ada_X[selected_features], ada_y)\n",
    "btc_train_valid_X, btc_train_valid_y, btc_test_X, btc_test_y = create_training_data(btc_X[selected_features], btc_y)\n",
    "doge_train_valid_X, doge_train_valid_y, doge_test_X, doge_test_y = create_training_data(doge_X[selected_features], doge_y)\n",
    "eth_train_valid_X, eth_train_valid_y, eth_test_X, eth_test_y = create_training_data(eth_X[selected_features], eth_y)\n",
    "ltc_train_valid_X, ltc_train_valid_y, ltc_test_X, ltc_test_y = create_training_data(ltc_X[selected_features], ltc_y)\n"
   ]
  },
  {
   "cell_type": "code",
   "execution_count": null,
   "metadata": {
    "colab": {
     "base_uri": "https://localhost:8080/"
    },
    "id": "gdzzsL9trHzt",
    "outputId": "cd395284-d155-42b1-ad20-b1f2b54fe1ac"
   },
   "outputs": [
    {
     "name": "stdout",
     "output_type": "stream",
     "text": [
      "(144114, 13)\n",
      "(144112,)\n",
      "(576444, 13)\n",
      "(576455,)\n",
      "(576457, 13)\n",
      "(576457,)\n"
     ]
    }
   ],
   "source": [
    "print(np.shape(ada_test_X))\n",
    "print(np.shape(ltc_test_y))\n",
    "print(np.shape(doge_train_valid_X))\n",
    "print(np.shape(eth_train_valid_y))\n",
    "print(np.shape(btc_train_valid_X))\n",
    "print(np.shape(btc_train_valid_y))"
   ]
  },
  {
   "cell_type": "markdown",
   "metadata": {
    "id": "dKtusf30Qtpp"
   },
   "source": [
    "### Blocking Time Series split for Cross Validation"
   ]
  },
  {
   "cell_type": "markdown",
   "metadata": {
    "id": "GW5RAikNdSMx"
   },
   "source": [
    "![Blocking-Time-Series-Split.png](data:image/png;base64,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)\n",
    "\n",
    "\n"
   ]
  },
  {
   "cell_type": "code",
   "execution_count": null,
   "metadata": {
    "id": "mb6gjOSEXD7o"
   },
   "outputs": [],
   "source": [
    "class BlockingTimeSeriesSplit():\n",
    "    def __init__(self, n_splits):\n",
    "        self.n_splits = n_splits\n",
    "    \n",
    "    def get_n_splits(self, X, y, groups):\n",
    "        return self.n_splits\n",
    "    \n",
    "    def split(self, X, y=None, groups=None):\n",
    "        n_samples = len(X)\n",
    "        k_fold_size = n_samples // self.n_splits\n",
    "        indices = np.arange(n_samples)\n",
    "\n",
    "        margin = 0\n",
    "        for i in range(self.n_splits):\n",
    "            start = i * k_fold_size\n",
    "            stop = start + k_fold_size\n",
    "            mid = int(0.8 * (stop - start)) + start\n",
    "            yield indices[start: mid], indices[mid + margin: stop]"
   ]
  },
  {
   "cell_type": "markdown",
   "metadata": {
    "id": "6hUkFEpidVXM"
   },
   "source": [
    "## Model Selection: Hyperparameter Tuning via Cross Validation\n",
    "\n",
    "1.   Baseline model: Decision Trees\n",
    "2.   Logistic Regression\n",
    "3.   Support Vector Machine\n",
    "4.   Random Forest\n",
    "5.   Multi-layer Perceptron\n",
    "6.   Recurrent Neural Network (LSTM)\n",
    "\n"
   ]
  },
  {
   "cell_type": "markdown",
   "metadata": {
    "id": "jk2phpdihsUx"
   },
   "source": [
    "### Decision Tree (Baseline Model) Cross Validation HyperParameter Tuning "
   ]
  },
  {
   "cell_type": "code",
   "execution_count": null,
   "metadata": {
    "colab": {
     "base_uri": "https://localhost:8080/"
    },
    "id": "8LFCcaVRbtFu",
    "outputId": "6518933b-fa0c-49d7-9120-590bac022301"
   },
   "outputs": [
    {
     "name": "stdout",
     "output_type": "stream",
     "text": [
      "max_features - min_samples_leaf - max_depth\n",
      "sqrt - 1 - 10  ---->  accuracy: 0.51535\n",
      "sqrt - 1 - 30  ---->  accuracy: 0.50225\n",
      "sqrt - 1 - 50  ---->  accuracy: 0.50585\n",
      "sqrt - 2 - 10  ---->  accuracy: 0.51830\n",
      "sqrt - 2 - 30  ---->  accuracy: 0.50025\n",
      "sqrt - 2 - 50  ---->  accuracy: 0.50995\n",
      "sqrt - 3 - 10  ---->  accuracy: 0.51400\n",
      "sqrt - 3 - 30  ---->  accuracy: 0.50490\n",
      "sqrt - 3 - 50  ---->  accuracy: 0.50815\n",
      "sqrt - 4 - 10  ---->  accuracy: 0.51900\n",
      "sqrt - 4 - 30  ---->  accuracy: 0.51005\n",
      "sqrt - 4 - 50  ---->  accuracy: 0.50915\n",
      "sqrt - 5 - 10  ---->  accuracy: 0.51040\n",
      "sqrt - 5 - 30  ---->  accuracy: 0.50550\n",
      "sqrt - 5 - 50  ---->  accuracy: 0.51110\n",
      "None - 1 - 10  ---->  accuracy: 0.51645\n",
      "None - 1 - 30  ---->  accuracy: 0.51095\n",
      "None - 1 - 50  ---->  accuracy: 0.50880\n",
      "None - 2 - 10  ---->  accuracy: 0.51655\n",
      "None - 2 - 30  ---->  accuracy: 0.51160\n",
      "None - 2 - 50  ---->  accuracy: 0.51065\n",
      "None - 3 - 10  ---->  accuracy: 0.51535\n",
      "None - 3 - 30  ---->  accuracy: 0.51145\n",
      "None - 3 - 50  ---->  accuracy: 0.51050\n",
      "None - 4 - 10  ---->  accuracy: 0.51455\n",
      "None - 4 - 30  ---->  accuracy: 0.50255\n",
      "None - 4 - 50  ---->  accuracy: 0.50380\n",
      "None - 5 - 10  ---->  accuracy: 0.51435\n",
      "None - 5 - 30  ---->  accuracy: 0.50480\n",
      "None - 5 - 50  ---->  accuracy: 0.50295\n",
      "log2 - 1 - 10  ---->  accuracy: 0.50710\n",
      "log2 - 1 - 30  ---->  accuracy: 0.50565\n",
      "log2 - 1 - 50  ---->  accuracy: 0.50045\n",
      "log2 - 2 - 10  ---->  accuracy: 0.51335\n",
      "log2 - 2 - 30  ---->  accuracy: 0.49985\n",
      "log2 - 2 - 50  ---->  accuracy: 0.50635\n",
      "log2 - 3 - 10  ---->  accuracy: 0.51425\n",
      "log2 - 3 - 30  ---->  accuracy: 0.50400\n",
      "log2 - 3 - 50  ---->  accuracy: 0.50225\n",
      "log2 - 4 - 10  ---->  accuracy: 0.51565\n",
      "log2 - 4 - 30  ---->  accuracy: 0.50705\n",
      "log2 - 4 - 50  ---->  accuracy: 0.50125\n",
      "log2 - 5 - 10  ---->  accuracy: 0.51405\n",
      "log2 - 5 - 30  ---->  accuracy: 0.50435\n",
      "log2 - 5 - 50  ---->  accuracy: 0.51085\n"
     ]
    }
   ],
   "source": [
    "max_fs = [\"sqrt\", None , \"log2\"]\n",
    "min_samples_leaf = [1,2,3,4,5]\n",
    "max_depths = [10,30,50]\n",
    "decision_score_list = []\n",
    "print('max_features - min_samples_leaf - max_depth')\n",
    "for maxf in max_fs:\n",
    "  for mins in min_samples_leaf:\n",
    "    for maxd in max_depths:\n",
    "      model = make_pipeline(StandardScaler(), DecisionTreeClassifier(min_samples_leaf=mins, max_depth = maxd, max_features = maxf))\n",
    "      btscv = BlockingTimeSeriesSplit(n_splits=10)\n",
    "      scores = cross_val_score(model, btc_train_valid_X[len(btc_train_valid_y)-100000:len(btc_train_valid_y),:], btc_train_valid_y[len(btc_train_valid_y)-100000:len(btc_train_valid_y)], cv=btscv, scoring=\"accuracy\")\n",
    "      print(str(maxf) + ' - ' + str(mins) + ' - ' + str(maxd) + \"  ---->  accuracy: {0:.5f}\".format(scores.mean()))\n",
    "      decision_score_list.append((maxf,mins,maxd,scores.mean()))"
   ]
  },
  {
   "cell_type": "code",
   "execution_count": null,
   "metadata": {
    "colab": {
     "base_uri": "https://localhost:8080/"
    },
    "id": "YsmpyZlob7zT",
    "outputId": "ef86991d-b2be-4119-f02e-a55b1826d6f6"
   },
   "outputs": [
    {
     "data": {
      "text/plain": [
       "('sqrt', 4, 10, 0.5189999999999999)"
      ]
     },
     "execution_count": 35,
     "metadata": {},
     "output_type": "execute_result"
    }
   ],
   "source": [
    "best_arg_decision_tree = max(decision_score_list, key=lambda x:x[3])\n",
    "best_arg_decision_tree"
   ]
  },
  {
   "cell_type": "markdown",
   "metadata": {
    "id": "UGj5n_X1jUAq"
   },
   "source": [
    "### Logistic Regression Cross Validation HyperParameter Tuning"
   ]
  },
  {
   "cell_type": "code",
   "execution_count": null,
   "metadata": {
    "colab": {
     "base_uri": "https://localhost:8080/"
    },
    "id": "eTHjZD5JcAgH",
    "outputId": "ddb8cad3-de1f-4c3a-af05-355026ed5d83"
   },
   "outputs": [
    {
     "name": "stdout",
     "output_type": "stream",
     "text": [
      "l1 accuracy: 0.52755 \n",
      "l2 accuracy: 0.52735 \n",
      "none accuracy: 0.52690 \n"
     ]
    }
   ],
   "source": [
    "logistic_score_list=[]\n",
    "penalties = [\"l1\",\"l2\", \"none\"]\n",
    "for pen in penalties:\n",
    "  model = make_pipeline(StandardScaler(), LogisticRegression(penalty=pen, solver=\"saga\", max_iter=1000, n_jobs=-1))\n",
    "  btscv = BlockingTimeSeriesSplit(n_splits=10)\n",
    "  scores = cross_val_score(model, btc_train_valid_X[len(btc_train_valid_y)-100000:len(btc_train_valid_y),:], btc_train_valid_y[len(btc_train_valid_y)-100000:len(btc_train_valid_y)], cv=btscv, scoring=\"accuracy\")\n",
    "  print(pen + \" accuracy: {0:.5f} \".format(scores.mean()))\n",
    "  logistic_score_list.append(scores.mean())"
   ]
  },
  {
   "cell_type": "code",
   "execution_count": null,
   "metadata": {
    "colab": {
     "base_uri": "https://localhost:8080/"
    },
    "id": "i4HYmshncUCe",
    "outputId": "227c5062-bbcd-4052-e872-0558e99d543d"
   },
   "outputs": [
    {
     "name": "stdout",
     "output_type": "stream",
     "text": [
      "l1, 0.52755\n"
     ]
    }
   ],
   "source": [
    "best_arg_logistic_regression = penalties[logistic_score_list.index(max(logistic_score_list))]\n",
    "print(best_arg_logistic_regression + ', '+ str(max(logistic_score_list)))"
   ]
  },
  {
   "cell_type": "markdown",
   "metadata": {
    "id": "dNxoNrv80xXd"
   },
   "source": [
    "### Support Vector Classifier Cross Validation HyperParameter Tuning"
   ]
  },
  {
   "cell_type": "code",
   "execution_count": null,
   "metadata": {
    "colab": {
     "base_uri": "https://localhost:8080/"
    },
    "id": "-fp4o0fY03BQ",
    "outputId": "73273d3e-29e7-415f-bb53-8510d87c32f2"
   },
   "outputs": [
    {
     "name": "stdout",
     "output_type": "stream",
     "text": [
      "regularizations (C) - kernels\n",
      "0.01 - rbf  ----> accuracy: 0.51310\n",
      "0.01 - linear  ----> accuracy: 0.51855\n",
      "0.01 - poly  ----> accuracy: 0.50940\n",
      "0.01 - sigmoid  ----> accuracy: 0.51565\n",
      "0.1 - rbf  ----> accuracy: 0.52940\n",
      "0.1 - linear  ----> accuracy: 0.51995\n",
      "0.1 - poly  ----> accuracy: 0.51085\n",
      "0.1 - sigmoid  ----> accuracy: 0.51145\n",
      "1 - rbf  ----> accuracy: 0.53010\n",
      "1 - linear  ----> accuracy: 0.51935\n",
      "1 - poly  ----> accuracy: 0.51160\n",
      "1 - sigmoid  ----> accuracy: 0.51085\n",
      "10 - rbf  ----> accuracy: 0.52175\n",
      "10 - linear  ----> accuracy: 0.51975\n",
      "10 - poly  ----> accuracy: 0.51270\n",
      "10 - sigmoid  ----> accuracy: 0.51085\n",
      "100 - rbf  ----> accuracy: 0.51550\n",
      "100 - linear  ----> accuracy: 0.51925\n",
      "100 - poly  ----> accuracy: 0.51475\n",
      "100 - sigmoid  ----> accuracy: 0.51100\n"
     ]
    }
   ],
   "source": [
    "regularizations = [0.01, 0.1, 1, 10, 100]\n",
    "kernels = ['rbf', 'linear', 'poly', 'sigmoid']\n",
    "SVC_score_list = []\n",
    "\n",
    "print('regularizations (C) - kernels')\n",
    "for r in regularizations:\n",
    "  for k in kernels:\n",
    "    model = make_pipeline(StandardScaler(), SVC(C = r, kernel= k))\n",
    "    btscv = BlockingTimeSeriesSplit(n_splits=10)\n",
    "    scores = cross_val_score(model, btc_train_valid_X[len(btc_train_valid_y)-100000:len(btc_train_valid_y),:], btc_train_valid_y[len(btc_train_valid_y)-100000:len(btc_train_valid_y)], cv=btscv, scoring=\"accuracy\")\n",
    "    print(str(r) + ' - ' + k  + \"  ----> accuracy: {0:.5f}\".format(scores.mean()))\n",
    "    SVC_score_list.append((r,k,scores.mean()))"
   ]
  },
  {
   "cell_type": "code",
   "execution_count": null,
   "metadata": {
    "colab": {
     "base_uri": "https://localhost:8080/"
    },
    "id": "IIX0R_46e6Z1",
    "outputId": "796074cb-7293-40a1-e97a-0e0427348bf8"
   },
   "outputs": [
    {
     "data": {
      "text/plain": [
       "(1, 'rbf', 0.5300999999999999)"
      ]
     },
     "execution_count": 22,
     "metadata": {},
     "output_type": "execute_result"
    }
   ],
   "source": [
    "best_arg_svc = max(SVC_score_list, key=lambda x:x[2])\n",
    "best_arg_svc"
   ]
  },
  {
   "cell_type": "markdown",
   "metadata": {
    "id": "HglN87fBbCnJ"
   },
   "source": [
    "### Random Forest Cross Validation HyperParameter Tuning"
   ]
  },
  {
   "cell_type": "code",
   "execution_count": null,
   "metadata": {
    "colab": {
     "base_uri": "https://localhost:8080/"
    },
    "id": "nYgfaqScbMIH",
    "outputId": "a1c76806-9b81-44e0-f97c-c8dba368bf68"
   },
   "outputs": [
    {
     "name": "stdout",
     "output_type": "stream",
     "text": [
      "num_estimators - max_features - min_samples_leaf - max_depth\n",
      "50 - None - 1 - 2  ----> accuracy: 0.52885 \n",
      "50 - None - 1 - 5  ----> accuracy: 0.52695 \n",
      "50 - None - 1 - 8  ----> accuracy: 0.52185 \n",
      "50 - None - 3 - 2  ----> accuracy: 0.52900 \n",
      "50 - None - 3 - 5  ----> accuracy: 0.52705 \n",
      "50 - None - 3 - 8  ----> accuracy: 0.52130 \n",
      "50 - None - 5 - 2  ----> accuracy: 0.52550 \n",
      "50 - None - 5 - 5  ----> accuracy: 0.53005 \n",
      "50 - None - 5 - 8  ----> accuracy: 0.52280 \n",
      "50 - sqrt - 1 - 2  ----> accuracy: 0.52895 \n",
      "50 - sqrt - 1 - 5  ----> accuracy: 0.52955 \n",
      "50 - sqrt - 1 - 8  ----> accuracy: 0.52145 \n",
      "50 - sqrt - 3 - 2  ----> accuracy: 0.52905 \n",
      "50 - sqrt - 3 - 5  ----> accuracy: 0.52975 \n",
      "50 - sqrt - 3 - 8  ----> accuracy: 0.52405 \n",
      "50 - sqrt - 5 - 2  ----> accuracy: 0.52900 \n",
      "50 - sqrt - 5 - 5  ----> accuracy: 0.52740 \n",
      "50 - sqrt - 5 - 8  ----> accuracy: 0.52505 \n",
      "50 - log2 - 1 - 2  ----> accuracy: 0.52710 \n",
      "50 - log2 - 1 - 5  ----> accuracy: 0.52795 \n",
      "50 - log2 - 1 - 8  ----> accuracy: 0.52560 \n",
      "50 - log2 - 3 - 2  ----> accuracy: 0.52810 \n",
      "50 - log2 - 3 - 5  ----> accuracy: 0.52730 \n",
      "50 - log2 - 3 - 8  ----> accuracy: 0.52855 \n",
      "50 - log2 - 5 - 2  ----> accuracy: 0.52835 \n",
      "50 - log2 - 5 - 5  ----> accuracy: 0.53075 \n",
      "50 - log2 - 5 - 8  ----> accuracy: 0.52575 \n",
      "100 - None - 1 - 2  ----> accuracy: 0.52585 \n",
      "100 - None - 1 - 5  ----> accuracy: 0.52985 \n",
      "100 - None - 1 - 8  ----> accuracy: 0.52640 \n",
      "100 - None - 3 - 2  ----> accuracy: 0.52705 \n",
      "100 - None - 3 - 5  ----> accuracy: 0.53000 \n",
      "100 - None - 3 - 8  ----> accuracy: 0.52810 \n",
      "100 - None - 5 - 2  ----> accuracy: 0.52765 \n",
      "100 - None - 5 - 5  ----> accuracy: 0.52865 \n",
      "100 - None - 5 - 8  ----> accuracy: 0.52580 \n",
      "100 - sqrt - 1 - 2  ----> accuracy: 0.52695 \n",
      "100 - sqrt - 1 - 5  ----> accuracy: 0.52785 \n",
      "100 - sqrt - 1 - 8  ----> accuracy: 0.52520 \n",
      "100 - sqrt - 3 - 2  ----> accuracy: 0.52845 \n",
      "100 - sqrt - 3 - 5  ----> accuracy: 0.53000 \n",
      "100 - sqrt - 3 - 8  ----> accuracy: 0.52565 \n",
      "100 - sqrt - 5 - 2  ----> accuracy: 0.52605 \n",
      "100 - sqrt - 5 - 5  ----> accuracy: 0.52870 \n",
      "100 - sqrt - 5 - 8  ----> accuracy: 0.52685 \n",
      "100 - log2 - 1 - 2  ----> accuracy: 0.52865 \n",
      "100 - log2 - 1 - 5  ----> accuracy: 0.52750 \n",
      "100 - log2 - 1 - 8  ----> accuracy: 0.52730 \n",
      "100 - log2 - 3 - 2  ----> accuracy: 0.52775 \n",
      "100 - log2 - 3 - 5  ----> accuracy: 0.52855 \n",
      "100 - log2 - 3 - 8  ----> accuracy: 0.52990 \n",
      "100 - log2 - 5 - 2  ----> accuracy: 0.52750 \n",
      "100 - log2 - 5 - 5  ----> accuracy: 0.53060 \n",
      "100 - log2 - 5 - 8  ----> accuracy: 0.52900 \n",
      "200 - None - 1 - 2  ----> accuracy: 0.52855 \n",
      "200 - None - 1 - 5  ----> accuracy: 0.52855 \n",
      "200 - None - 1 - 8  ----> accuracy: 0.52560 \n",
      "200 - None - 3 - 2  ----> accuracy: 0.52745 \n",
      "200 - None - 3 - 5  ----> accuracy: 0.52970 \n",
      "200 - None - 3 - 8  ----> accuracy: 0.52635 \n",
      "200 - None - 5 - 2  ----> accuracy: 0.52735 \n",
      "200 - None - 5 - 5  ----> accuracy: 0.52770 \n",
      "200 - None - 5 - 8  ----> accuracy: 0.52630 \n",
      "200 - sqrt - 1 - 2  ----> accuracy: 0.52920 \n",
      "200 - sqrt - 1 - 5  ----> accuracy: 0.52965 \n",
      "200 - sqrt - 1 - 8  ----> accuracy: 0.53025 \n",
      "200 - sqrt - 3 - 2  ----> accuracy: 0.52880 \n",
      "200 - sqrt - 3 - 5  ----> accuracy: 0.52875 \n",
      "200 - sqrt - 3 - 8  ----> accuracy: 0.52725 \n",
      "200 - sqrt - 5 - 2  ----> accuracy: 0.52840 \n",
      "200 - sqrt - 5 - 5  ----> accuracy: 0.52955 \n",
      "200 - sqrt - 5 - 8  ----> accuracy: 0.52905 \n",
      "200 - log2 - 1 - 2  ----> accuracy: 0.52920 \n",
      "200 - log2 - 1 - 5  ----> accuracy: 0.52980 \n",
      "200 - log2 - 1 - 8  ----> accuracy: 0.52685 \n",
      "200 - log2 - 3 - 2  ----> accuracy: 0.52855 \n",
      "200 - log2 - 3 - 5  ----> accuracy: 0.52885 \n",
      "200 - log2 - 3 - 8  ----> accuracy: 0.53040 \n",
      "200 - log2 - 5 - 2  ----> accuracy: 0.52955 \n",
      "200 - log2 - 5 - 5  ----> accuracy: 0.53185 \n",
      "200 - log2 - 5 - 8  ----> accuracy: 0.52970 \n"
     ]
    }
   ],
   "source": [
    "num_estimators = [50,100,200]\n",
    "max_fs_rf = [None, \"sqrt\", \"log2\"]\n",
    "min_samples_leaf_rf = [1,3,5]\n",
    "max_depths_rf = [2,5,8]\n",
    "random_forest_score_list = []\n",
    "print('num_estimators - max_features - min_samples_leaf - max_depth')\n",
    "for est in  num_estimators:\n",
    "  for maxf in max_fs_rf:\n",
    "    for mins in min_samples_leaf_rf:\n",
    "      for maxd in max_depths_rf:\n",
    "        model = make_pipeline(StandardScaler(), RandomForestClassifier(n_estimators = est, min_samples_leaf=mins, max_depth = maxd, max_features = maxf))\n",
    "        btscv = BlockingTimeSeriesSplit(n_splits=10)\n",
    "        scores = cross_val_score(model, btc_train_valid_X[len(btc_train_valid_y)-100000:len(btc_train_valid_y),:], btc_train_valid_y[len(btc_train_valid_y)-100000:len(btc_train_valid_y)], cv=btscv, scoring=\"accuracy\")\n",
    "        print(str(est) + ' - ' + str(maxf) + ' - ' + str(mins) + ' - ' + str(maxd) + \"  ----> accuracy: {0:.5f} \".format(scores.mean()))\n",
    "        random_forest_score_list.append((est, maxf, mins, maxd,scores.mean()))"
   ]
  },
  {
   "cell_type": "code",
   "execution_count": null,
   "metadata": {
    "colab": {
     "base_uri": "https://localhost:8080/"
    },
    "id": "SaXe8i8yfIy9",
    "outputId": "cf4dc06a-f9eb-47e9-9f55-7c7a6d1c04dc"
   },
   "outputs": [
    {
     "data": {
      "text/plain": [
       "(200, 'log2', 5, 5, 0.53185)"
      ]
     },
     "execution_count": 25,
     "metadata": {},
     "output_type": "execute_result"
    }
   ],
   "source": [
    "best_arg_rf = max(random_forest_score_list, key=lambda x:x[4])\n",
    "best_arg_rf"
   ]
  },
  {
   "cell_type": "markdown",
   "metadata": {
    "id": "z5LM2WfiRHnj"
   },
   "source": [
    "### Multi-Layer Perceptron Cross Validation HyperParameter Tuning"
   ]
  },
  {
   "cell_type": "code",
   "execution_count": null,
   "metadata": {
    "colab": {
     "base_uri": "https://localhost:8080/"
    },
    "id": "szrIdC53RN85",
    "outputId": "46cadcdf-0b5b-45f9-ac3d-91bda001b2b7"
   },
   "outputs": [
    {
     "name": "stdout",
     "output_type": "stream",
     "text": [
      "hidden_layer_sizes - learning_rate - learning_rate_init - epsilon\n",
      "(40, 2) - invscaling - 0.0001 - 1e-06  ----> accuracy: 0.50835 \n",
      "(40, 2) - invscaling - 0.0001 - 1e-08  ----> accuracy: 0.51460 \n",
      "(40, 2) - invscaling - 0.0001 - 1e-10  ----> accuracy: 0.49760 \n",
      "(40, 2) - invscaling - 0.001 - 1e-06  ----> accuracy: 0.50980 \n",
      "(40, 2) - invscaling - 0.001 - 1e-08  ----> accuracy: 0.52300 \n",
      "(40, 2) - invscaling - 0.001 - 1e-10  ----> accuracy: 0.52075 \n",
      "(40, 2) - invscaling - 0.01 - 1e-06  ----> accuracy: 0.51765 \n",
      "(40, 2) - invscaling - 0.01 - 1e-08  ----> accuracy: 0.52100 \n",
      "(40, 2) - invscaling - 0.01 - 1e-10  ----> accuracy: 0.52560 \n",
      "(40, 2) - invscaling - 0.1 - 1e-06  ----> accuracy: 0.50125 \n",
      "(40, 2) - invscaling - 0.1 - 1e-08  ----> accuracy: 0.50960 \n",
      "(40, 2) - invscaling - 0.1 - 1e-10  ----> accuracy: 0.50755 \n",
      "(40, 2) - adaptive - 0.0001 - 1e-06  ----> accuracy: 0.51725 \n",
      "(40, 2) - adaptive - 0.0001 - 1e-08  ----> accuracy: 0.50055 \n",
      "(40, 2) - adaptive - 0.0001 - 1e-10  ----> accuracy: 0.50845 \n",
      "(40, 2) - adaptive - 0.001 - 1e-06  ----> accuracy: 0.52245 \n",
      "(40, 2) - adaptive - 0.001 - 1e-08  ----> accuracy: 0.50980 \n",
      "(40, 2) - adaptive - 0.001 - 1e-10  ----> accuracy: 0.52110 \n",
      "(40, 2) - adaptive - 0.01 - 1e-06  ----> accuracy: 0.52155 \n",
      "(40, 2) - adaptive - 0.01 - 1e-08  ----> accuracy: 0.52410 \n",
      "(40, 2) - adaptive - 0.01 - 1e-10  ----> accuracy: 0.51590 \n",
      "(40, 2) - adaptive - 0.1 - 1e-06  ----> accuracy: 0.50780 \n",
      "(40, 2) - adaptive - 0.1 - 1e-08  ----> accuracy: 0.50265 \n",
      "(40, 2) - adaptive - 0.1 - 1e-10  ----> accuracy: 0.50900 \n",
      "(100, 40, 2) - invscaling - 0.0001 - 1e-06  ----> accuracy: 0.52045 \n",
      "(100, 40, 2) - invscaling - 0.0001 - 1e-08  ----> accuracy: 0.50895 \n",
      "(100, 40, 2) - invscaling - 0.0001 - 1e-10  ----> accuracy: 0.50940 \n",
      "(100, 40, 2) - invscaling - 0.001 - 1e-06  ----> accuracy: 0.51680 \n",
      "(100, 40, 2) - invscaling - 0.001 - 1e-08  ----> accuracy: 0.52050 \n",
      "(100, 40, 2) - invscaling - 0.001 - 1e-10  ----> accuracy: 0.52600 \n",
      "(100, 40, 2) - invscaling - 0.01 - 1e-06  ----> accuracy: 0.52745 \n",
      "(100, 40, 2) - invscaling - 0.01 - 1e-08  ----> accuracy: 0.51870 \n",
      "(100, 40, 2) - invscaling - 0.01 - 1e-10  ----> accuracy: 0.51090 \n",
      "(100, 40, 2) - invscaling - 0.1 - 1e-06  ----> accuracy: 0.50705 \n",
      "(100, 40, 2) - invscaling - 0.1 - 1e-08  ----> accuracy: 0.51185 \n",
      "(100, 40, 2) - invscaling - 0.1 - 1e-10  ----> accuracy: 0.50975 \n",
      "(100, 40, 2) - adaptive - 0.0001 - 1e-06  ----> accuracy: 0.51390 \n",
      "(100, 40, 2) - adaptive - 0.0001 - 1e-08  ----> accuracy: 0.52340 \n",
      "(100, 40, 2) - adaptive - 0.0001 - 1e-10  ----> accuracy: 0.51460 \n",
      "(100, 40, 2) - adaptive - 0.001 - 1e-06  ----> accuracy: 0.52395 \n",
      "(100, 40, 2) - adaptive - 0.001 - 1e-08  ----> accuracy: 0.51800 \n",
      "(100, 40, 2) - adaptive - 0.001 - 1e-10  ----> accuracy: 0.51830 \n",
      "(100, 40, 2) - adaptive - 0.01 - 1e-06  ----> accuracy: 0.52400 \n",
      "(100, 40, 2) - adaptive - 0.01 - 1e-08  ----> accuracy: 0.51695 \n",
      "(100, 40, 2) - adaptive - 0.01 - 1e-10  ----> accuracy: 0.51185 \n",
      "(100, 40, 2) - adaptive - 0.1 - 1e-06  ----> accuracy: 0.50900 \n",
      "(100, 40, 2) - adaptive - 0.1 - 1e-08  ----> accuracy: 0.50435 \n",
      "(100, 40, 2) - adaptive - 0.1 - 1e-10  ----> accuracy: 0.50785 \n",
      "(150, 75, 30, 2) - invscaling - 0.0001 - 1e-06  ----> accuracy: 0.51190 \n",
      "(150, 75, 30, 2) - invscaling - 0.0001 - 1e-08  ----> accuracy: 0.51090 \n",
      "(150, 75, 30, 2) - invscaling - 0.0001 - 1e-10  ----> accuracy: 0.51295 \n",
      "(150, 75, 30, 2) - invscaling - 0.001 - 1e-06  ----> accuracy: 0.52605 \n",
      "(150, 75, 30, 2) - invscaling - 0.001 - 1e-08  ----> accuracy: 0.51350 \n",
      "(150, 75, 30, 2) - invscaling - 0.001 - 1e-10  ----> accuracy: 0.52155 \n",
      "(150, 75, 30, 2) - invscaling - 0.01 - 1e-06  ----> accuracy: 0.51645 \n",
      "(150, 75, 30, 2) - invscaling - 0.01 - 1e-08  ----> accuracy: 0.51145 \n",
      "(150, 75, 30, 2) - invscaling - 0.01 - 1e-10  ----> accuracy: 0.51160 \n",
      "(150, 75, 30, 2) - invscaling - 0.1 - 1e-06  ----> accuracy: 0.51135 \n",
      "(150, 75, 30, 2) - invscaling - 0.1 - 1e-08  ----> accuracy: 0.50380 \n",
      "(150, 75, 30, 2) - invscaling - 0.1 - 1e-10  ----> accuracy: 0.50785 \n",
      "(150, 75, 30, 2) - adaptive - 0.0001 - 1e-06  ----> accuracy: 0.52230 \n",
      "(150, 75, 30, 2) - adaptive - 0.0001 - 1e-08  ----> accuracy: 0.51950 \n",
      "(150, 75, 30, 2) - adaptive - 0.0001 - 1e-10  ----> accuracy: 0.52125 \n",
      "(150, 75, 30, 2) - adaptive - 0.001 - 1e-06  ----> accuracy: 0.51780 \n",
      "(150, 75, 30, 2) - adaptive - 0.001 - 1e-08  ----> accuracy: 0.53235 \n",
      "(150, 75, 30, 2) - adaptive - 0.001 - 1e-10  ----> accuracy: 0.50690 \n",
      "(150, 75, 30, 2) - adaptive - 0.01 - 1e-06  ----> accuracy: 0.52060 \n",
      "(150, 75, 30, 2) - adaptive - 0.01 - 1e-08  ----> accuracy: 0.50785 \n",
      "(150, 75, 30, 2) - adaptive - 0.01 - 1e-10  ----> accuracy: 0.51860 \n",
      "(150, 75, 30, 2) - adaptive - 0.1 - 1e-06  ----> accuracy: 0.50665 \n",
      "(150, 75, 30, 2) - adaptive - 0.1 - 1e-08  ----> accuracy: 0.50835 \n",
      "(150, 75, 30, 2) - adaptive - 0.1 - 1e-10  ----> accuracy: 0.50785 \n"
     ]
    }
   ],
   "source": [
    "hidden_layers = [(40,2),(100,40,2),(150,75,30,2)]\n",
    "learning_rates = ['invscaling','adaptive']\n",
    "learning_rate_inits = [0.0001, 0.001, 0.01, 0.1]\n",
    "epsilon = [10 ** -6, 10 ** -8, 10 ** -10]\n",
    "mlp_list = []\n",
    "\n",
    "print('hidden_layer_sizes - learning_rate - learning_rate_init - epsilon')\n",
    "for h in hidden_layers:\n",
    "  for lr in learning_rates:\n",
    "    for lr_in in learning_rate_inits:\n",
    "      for e in epsilon:\n",
    "        model = make_pipeline(StandardScaler(), MLPClassifier(epsilon = e, hidden_layer_sizes = h, learning_rate= lr, learning_rate_init = lr_in, shuffle = False, warm_start = True, max_iter = 800, early_stopping = True))\n",
    "        btscv = BlockingTimeSeriesSplit(n_splits=10)\n",
    "        scores = cross_val_score(model, btc_train_valid_X[len(btc_train_valid_y)-100000:len(btc_train_valid_y),:], btc_train_valid_y[len(btc_train_valid_y)-100000:len(btc_train_valid_y)], cv=btscv, scoring=\"accuracy\")\n",
    "        print(str(h) + ' - ' + lr + ' - ' + str(lr_in) +  ' - ' +str(e) + \"  ----> accuracy: {0:.5f} \".format(scores.mean()))\n",
    "        mlp_list.append((h, lr, lr_in, e, scores.mean()))\n"
   ]
  },
  {
   "cell_type": "code",
   "execution_count": null,
   "metadata": {
    "colab": {
     "base_uri": "https://localhost:8080/"
    },
    "id": "faorvLW-aHwV",
    "outputId": "77e97f82-0d70-4a22-c2e4-16163190f5e5"
   },
   "outputs": [
    {
     "data": {
      "text/plain": [
       "((150, 75, 30, 2), 'adaptive', 0.001, 1e-08, 0.5323499999999999)"
      ]
     },
     "execution_count": 27,
     "metadata": {},
     "output_type": "execute_result"
    }
   ],
   "source": [
    "best_arg_mlp= max(mlp_list, key=lambda x:x[4])\n",
    "best_arg_mlp"
   ]
  },
  {
   "cell_type": "markdown",
   "metadata": {
    "id": "klw6pBkgHfJr"
   },
   "source": [
    "### RNN Cross Validation HyperParameter Tuning"
   ]
  },
  {
   "cell_type": "code",
   "execution_count": null,
   "metadata": {
    "id": "PoNf951MU2pN"
   },
   "outputs": [],
   "source": [
    "def build_rnn_gru():\n",
    "    model= Sequential([\n",
    "        Embedding(input_dim=13, output_dim=128),\n",
    "        GRU(64, activation = \"tanh\", return_sequences=True),\n",
    "        GRU(32, activation = \"tanh\", return_sequences=True),\n",
    "        GRU(16, activation = \"tanh\"),\n",
    "        Dense(8),\n",
    "\t      Dense(1, activation='sigmoid')\n",
    "    ])\n",
    "    model.compile(optimizer='adam', loss='binary_crossentropy', metrics=['accuracy'])\n",
    "    return(model)\n",
    "\n",
    "def build_rnn_lstm():\n",
    "    model= Sequential([\n",
    "        Embedding(input_dim=13, output_dim=128),\n",
    "        LSTM(64, activation='tanh', recurrent_activation = \"sigmoid\", return_sequences=True),\n",
    "        LSTM(32, activation='tanh', return_sequences=True),\n",
    "        LSTM(16, activation='tanh'),\n",
    "        Dense(8),\n",
    "\t      Dense(1, activation='sigmoid')\n",
    "    ])\n",
    "    model.compile(optimizer='adam', loss='binary_crossentropy', metrics=['accuracy'])\n",
    "    return(model)"
   ]
  },
  {
   "cell_type": "code",
   "execution_count": null,
   "metadata": {
    "colab": {
     "base_uri": "https://localhost:8080/"
    },
    "id": "eP0Sz6eiCgU-",
    "outputId": "c260d089-77be-4fbf-f10f-2cba871d6170"
   },
   "outputs": [
    {
     "name": "stdout",
     "output_type": "stream",
     "text": [
      "build_fn\n"
     ]
    },
    {
     "name": "stderr",
     "output_type": "stream",
     "text": [
      "/usr/local/lib/python3.7/dist-packages/ipykernel_launcher.py:6: DeprecationWarning: KerasClassifier is deprecated, use Sci-Keras (https://github.com/adriangb/scikeras) instead.\n",
      "  \n"
     ]
    },
    {
     "name": "stdout",
     "output_type": "stream",
     "text": [
      "GRU  ----> accuracy: 0.51355 \n"
     ]
    },
    {
     "name": "stderr",
     "output_type": "stream",
     "text": [
      "/usr/local/lib/python3.7/dist-packages/ipykernel_launcher.py:6: DeprecationWarning: KerasClassifier is deprecated, use Sci-Keras (https://github.com/adriangb/scikeras) instead.\n",
      "  \n"
     ]
    },
    {
     "name": "stdout",
     "output_type": "stream",
     "text": [
      "LSTM  ----> accuracy: 0.50725 \n"
     ]
    }
   ],
   "source": [
    "funs = [build_rnn_gru, build_rnn_lstm]\n",
    "fun_name = ['GRU','LSTM']\n",
    "rnn_list = []\n",
    "print('build_fn')\n",
    "for i in range(2):\n",
    "  model = make_pipeline(StandardScaler(), KerasClassifier(build_fn=funs[i], verbose=0))\n",
    "  btscv = BlockingTimeSeriesSplit(n_splits=10)\n",
    "  results = cross_val_score(model, btc_train_valid_X[len(btc_train_valid_y)-100000:len(btc_train_valid_y),:], btc_train_valid_y[len(btc_train_valid_y)-100000:len(btc_train_valid_y)], cv=btscv, scoring=\"accuracy\")\n",
    "  print(fun_name[i] + \"  ----> accuracy: {0:.5f} \".format(results.mean()))\n",
    "  rnn_list.append((fun_name[i], results.mean()))"
   ]
  },
  {
   "cell_type": "code",
   "execution_count": null,
   "metadata": {
    "colab": {
     "base_uri": "https://localhost:8080/"
    },
    "id": "bYyQWOJ_EBM8",
    "outputId": "233dafd6-b1c0-4c6d-b3d6-39bd2d55d019"
   },
   "outputs": [
    {
     "data": {
      "text/plain": [
       "('GRU', 0.5135500000000001)"
      ]
     },
     "execution_count": 49,
     "metadata": {},
     "output_type": "execute_result"
    }
   ],
   "source": [
    "best_arg_rnn = max(rnn_list, key=lambda x:x[1])\n",
    "best_arg_rnn"
   ]
  },
  {
   "cell_type": "markdown",
   "metadata": {
    "id": "Q1ZjEEehe-Hy"
   },
   "source": [
    "## Model training"
   ]
  },
  {
   "cell_type": "markdown",
   "metadata": {
    "id": "ir1jHkKylCAG"
   },
   "source": [
    "**Train models using optimal hyperparameters**"
   ]
  },
  {
   "cell_type": "code",
   "execution_count": null,
   "metadata": {
    "id": "l3ukUGoF2tgG"
   },
   "outputs": [],
   "source": [
    "def vary_end_time(model, test_X, test_y):\n",
    "  end_time_test = [15, 100, 1000, 10000]\n",
    "  accuracy_list = []\n",
    "  for e in end_time_test:\n",
    "    acc = model.score(test_X[0:e,:], test_y[0:e])\n",
    "    accuracy_list.append(acc)\n",
    "    print('First '+ str(e) + ' minutes - ' + \"  ----> accuracy: {0:.5f} \".format(acc))\n",
    "  return accuracy_list"
   ]
  },
  {
   "cell_type": "code",
   "execution_count": null,
   "metadata": {
    "id": "C9FlbqRSa0hR"
   },
   "outputs": [],
   "source": [
    "train_X_list = [ada_train_valid_X, btc_train_valid_X, doge_train_valid_X, eth_train_valid_X, ltc_train_valid_X]\n",
    "train_y_list = [ada_train_valid_y, btc_train_valid_y, doge_train_valid_y, eth_train_valid_y, ltc_train_valid_y]\n",
    "test_X_list = [ada_test_X, btc_test_X, doge_test_X, eth_test_X, ltc_test_X]\n",
    "test_y_list = [ada_test_y, btc_test_y, doge_test_y, eth_test_y, ltc_test_y]\n",
    "\n",
    "coin_names = ['ADA', 'BTC', 'DOGE', 'ETH', 'LTC']"
   ]
  },
  {
   "cell_type": "markdown",
   "metadata": {
    "id": "9jvH3no1hKlC"
   },
   "source": [
    "# Decision Tree"
   ]
  },
  {
   "cell_type": "code",
   "execution_count": null,
   "metadata": {
    "colab": {
     "base_uri": "https://localhost:8080/"
    },
    "id": "ARAJdtYEhO_L",
    "outputId": "c374ffdb-70e9-43a7-fc3f-96ffa4a27cbf"
   },
   "outputs": [
    {
     "name": "stdout",
     "output_type": "stream",
     "text": [
      "------- ADA -------\n",
      "First 15 minutes -   ----> accuracy: 0.40000 \n",
      "First 100 minutes -   ----> accuracy: 0.51000 \n",
      "First 1000 minutes -   ----> accuracy: 0.53500 \n",
      "First 10000 minutes -   ----> accuracy: 0.50490 \n",
      "------- BTC -------\n",
      "First 15 minutes -   ----> accuracy: 0.66667 \n",
      "First 100 minutes -   ----> accuracy: 0.62000 \n",
      "First 1000 minutes -   ----> accuracy: 0.53100 \n",
      "First 10000 minutes -   ----> accuracy: 0.51670 \n",
      "------- DOGE -------\n",
      "First 15 minutes -   ----> accuracy: 0.40000 \n",
      "First 100 minutes -   ----> accuracy: 0.48000 \n",
      "First 1000 minutes -   ----> accuracy: 0.50600 \n",
      "First 10000 minutes -   ----> accuracy: 0.51220 \n",
      "------- ETH -------\n",
      "First 15 minutes -   ----> accuracy: 0.80000 \n",
      "First 100 minutes -   ----> accuracy: 0.53000 \n",
      "First 1000 minutes -   ----> accuracy: 0.49900 \n",
      "First 10000 minutes -   ----> accuracy: 0.50160 \n",
      "------- LTC -------\n",
      "First 15 minutes -   ----> accuracy: 0.53333 \n",
      "First 100 minutes -   ----> accuracy: 0.54000 \n",
      "First 1000 minutes -   ----> accuracy: 0.52800 \n",
      "First 10000 minutes -   ----> accuracy: 0.50770 \n"
     ]
    }
   ],
   "source": [
    "#('sqrt', 4, 10, 0.5189999999999999)\n",
    "acc_list_coins_dt = []\n",
    "for i in range(5):\n",
    "  print('------- ' + coin_names[i] + ' -------')\n",
    "  dt = make_pipeline(StandardScaler(), DecisionTreeClassifier(min_samples_leaf=4, max_depth = 10, max_features = 'sqrt'))\n",
    "  dt.fit(train_X_list[i], train_y_list[i])\n",
    "  model_name = 'decision_tree_' + coin_names[i]\n",
    "  filename = model_name + '.pkl'\n",
    "  with open(filename, 'wb') as file:\n",
    "    pickle.dump(dt, file)\n",
    "  acc_list_coins_dt.append(vary_end_time(dt, test_X_list[i], test_y_list[i]))\n",
    "  del dt\n",
    "  gc.collect()"
   ]
  },
  {
   "cell_type": "markdown",
   "metadata": {
    "id": "FO5j_A47lNsU"
   },
   "source": [
    "### Multi Layer Perceptron"
   ]
  },
  {
   "cell_type": "code",
   "execution_count": null,
   "metadata": {
    "colab": {
     "base_uri": "https://localhost:8080/"
    },
    "id": "6zFC0LV2lVKq",
    "outputId": "7245575f-2437-4dc9-f06e-0bf06bc23a10"
   },
   "outputs": [
    {
     "name": "stdout",
     "output_type": "stream",
     "text": [
      "------- ADA -------\n",
      "First 15 minutes -   ----> accuracy: 0.66667 \n",
      "First 100 minutes -   ----> accuracy: 0.61000 \n",
      "First 1000 minutes -   ----> accuracy: 0.52400 \n",
      "First 10000 minutes -   ----> accuracy: 0.51300 \n",
      "------- BTC -------\n",
      "First 15 minutes -   ----> accuracy: 0.53333 \n",
      "First 100 minutes -   ----> accuracy: 0.58000 \n",
      "First 1000 minutes -   ----> accuracy: 0.53300 \n",
      "First 10000 minutes -   ----> accuracy: 0.52190 \n",
      "------- DOGE -------\n",
      "First 15 minutes -   ----> accuracy: 0.53333 \n",
      "First 100 minutes -   ----> accuracy: 0.55000 \n",
      "First 1000 minutes -   ----> accuracy: 0.49000 \n",
      "First 10000 minutes -   ----> accuracy: 0.51530 \n",
      "------- ETH -------\n",
      "First 15 minutes -   ----> accuracy: 0.40000 \n",
      "First 100 minutes -   ----> accuracy: 0.53000 \n",
      "First 1000 minutes -   ----> accuracy: 0.49700 \n",
      "First 10000 minutes -   ----> accuracy: 0.51660 \n",
      "------- LTC -------\n",
      "First 15 minutes -   ----> accuracy: 0.53333 \n",
      "First 100 minutes -   ----> accuracy: 0.57000 \n",
      "First 1000 minutes -   ----> accuracy: 0.51900 \n",
      "First 10000 minutes -   ----> accuracy: 0.51420 \n"
     ]
    }
   ],
   "source": [
    "acc_list_coins_mlp = []\n",
    "for i in range(5):\n",
    "  print('------- ' + coin_names[i] + ' -------')\n",
    "  mlp = make_pipeline(StandardScaler(), MLPClassifier(epsilon = 1e-08, hidden_layer_sizes = (150, 75, 30, 2), learning_rate= 'adaptive', learning_rate_init = 0.001,\n",
    "                                                    shuffle = False, warm_start = True, max_iter = 800, early_stopping = True, verbose = False))\n",
    "  mlp.fit(train_X_list[i], train_y_list[i])\n",
    "  model_name = 'mlp_' + coin_names[i]\n",
    "  filename = model_name + '.pkl'\n",
    "  with open(filename, 'wb') as file:\n",
    "    pickle.dump(mlp, file)\n",
    "  acc_list_coins_mlp.append(vary_end_time(mlp, test_X_list[i], test_y_list[i]))\n",
    "  del mlp\n",
    "  gc.collect()"
   ]
  },
  {
   "cell_type": "markdown",
   "metadata": {
    "id": "TZCRzEd3ms4M"
   },
   "source": [
    "### Logistic Regression"
   ]
  },
  {
   "cell_type": "code",
   "execution_count": null,
   "metadata": {
    "colab": {
     "base_uri": "https://localhost:8080/"
    },
    "id": "O9LaxrFwikYn",
    "outputId": "675347c5-5fd5-477e-811c-fc0efa11019a"
   },
   "outputs": [
    {
     "name": "stdout",
     "output_type": "stream",
     "text": [
      "------- ADA -------\n",
      "First 15 minutes -   ----> accuracy: 0.80000 \n",
      "First 100 minutes -   ----> accuracy: 0.57000 \n",
      "First 1000 minutes -   ----> accuracy: 0.51900 \n",
      "First 10000 minutes -   ----> accuracy: 0.50620 \n",
      "------- BTC -------\n",
      "First 15 minutes -   ----> accuracy: 0.53333 \n",
      "First 100 minutes -   ----> accuracy: 0.57000 \n",
      "First 1000 minutes -   ----> accuracy: 0.55000 \n",
      "First 10000 minutes -   ----> accuracy: 0.52340 \n",
      "------- DOGE -------\n",
      "First 15 minutes -   ----> accuracy: 0.53333 \n",
      "First 100 minutes -   ----> accuracy: 0.52000 \n",
      "First 1000 minutes -   ----> accuracy: 0.47600 \n",
      "First 10000 minutes -   ----> accuracy: 0.50450 \n",
      "------- ETH -------\n",
      "First 15 minutes -   ----> accuracy: 0.66667 \n",
      "First 100 minutes -   ----> accuracy: 0.56000 \n",
      "First 1000 minutes -   ----> accuracy: 0.50300 \n",
      "First 10000 minutes -   ----> accuracy: 0.50800 \n",
      "------- LTC -------\n",
      "First 15 minutes -   ----> accuracy: 0.46667 \n",
      "First 100 minutes -   ----> accuracy: 0.50000 \n",
      "First 1000 minutes -   ----> accuracy: 0.52700 \n",
      "First 10000 minutes -   ----> accuracy: 0.51050 \n"
     ]
    }
   ],
   "source": [
    "acc_list_coins_logistic = []\n",
    "for i in range(5):\n",
    "  print('------- ' + coin_names[i] + ' -------')\n",
    "  logistic = make_pipeline(StandardScaler(), LogisticRegression(penalty='l1', solver=\"saga\", max_iter=1000, n_jobs=-1))\n",
    "  logistic.fit(train_X_list[i], train_y_list[i])\n",
    "  model_name = 'logistic_' + coin_names[i]\n",
    "  filename = model_name + '.pkl'\n",
    "  with open(filename, 'wb') as file:\n",
    "    pickle.dump(logistic, file)\n",
    "  acc_list_coins_logistic.append(vary_end_time(logistic, test_X_list[i], test_y_list[i]))\n",
    "\n",
    "  del logistic\n",
    "  gc.collect()"
   ]
  },
  {
   "cell_type": "markdown",
   "metadata": {
    "id": "OfZDrzlxm8Vs"
   },
   "source": [
    "### Random Forest Classifier"
   ]
  },
  {
   "cell_type": "code",
   "execution_count": null,
   "metadata": {
    "colab": {
     "base_uri": "https://localhost:8080/"
    },
    "id": "G-587JUVKCnw",
    "outputId": "c4acce49-ef6d-4fc3-db5c-17211c5e79d7"
   },
   "outputs": [
    {
     "name": "stdout",
     "output_type": "stream",
     "text": [
      "------- ADA -------\n",
      "First 15 minutes -   ----> accuracy: 0.33333 \n",
      "First 100 minutes -   ----> accuracy: 0.53000 \n",
      "First 1000 minutes -   ----> accuracy: 0.52900 \n",
      "First 10000 minutes -   ----> accuracy: 0.51290 \n",
      "------- BTC -------\n",
      "First 15 minutes -   ----> accuracy: 0.53333 \n",
      "First 100 minutes -   ----> accuracy: 0.54000 \n",
      "First 1000 minutes -   ----> accuracy: 0.53400 \n",
      "First 10000 minutes -   ----> accuracy: 0.52650 \n",
      "------- DOGE -------\n",
      "First 15 minutes -   ----> accuracy: 0.53333 \n",
      "First 100 minutes -   ----> accuracy: 0.53000 \n",
      "First 1000 minutes -   ----> accuracy: 0.50600 \n",
      "First 10000 minutes -   ----> accuracy: 0.51930 \n",
      "------- ETH -------\n",
      "First 15 minutes -   ----> accuracy: 0.73333 \n",
      "First 100 minutes -   ----> accuracy: 0.58000 \n",
      "First 1000 minutes -   ----> accuracy: 0.50400 \n",
      "First 10000 minutes -   ----> accuracy: 0.51180 \n",
      "------- LTC -------\n",
      "First 15 minutes -   ----> accuracy: 0.60000 \n",
      "First 100 minutes -   ----> accuracy: 0.54000 \n",
      "First 1000 minutes -   ----> accuracy: 0.51600 \n",
      "First 10000 minutes -   ----> accuracy: 0.50610 \n"
     ]
    }
   ],
   "source": [
    "#(200, 'log2', 5, 5, 0.53185)\n",
    "acc_list_coins_rf = []\n",
    "for i in range(5):\n",
    "  print('------- ' + coin_names[i] + ' -------')\n",
    "  rf= make_pipeline(StandardScaler(), RandomForestClassifier(n_estimators = 200, min_samples_leaf=5, max_depth = 5, max_features = 'log2'))\n",
    "  rf.fit(train_X_list[i], train_y_list[i])\n",
    "  model_name = 'rf_' + coin_names[i]\n",
    "  filename = model_name + '.pkl'\n",
    "  with open(filename, 'wb') as file:\n",
    "    pickle.dump(rf, file)\n",
    "  acc_list_coins_rf.append(vary_end_time(rf, test_X_list[i], test_y_list[i]))\n",
    "  del rf\n",
    "  gc.collect()"
   ]
  },
  {
   "cell_type": "markdown",
   "metadata": {
    "id": "MUbTxGO7axMj"
   },
   "source": [
    "# Recurrent Neural Network"
   ]
  },
  {
   "cell_type": "code",
   "execution_count": null,
   "metadata": {
    "colab": {
     "base_uri": "https://localhost:8080/"
    },
    "id": "U0kqKRkja4ST",
    "outputId": "d2a85ec5-7686-4810-d630-432d6cbe8ee3"
   },
   "outputs": [
    {
     "name": "stdout",
     "output_type": "stream",
     "text": [
      "------- ADA -------\n"
     ]
    },
    {
     "name": "stderr",
     "output_type": "stream",
     "text": [
      "/usr/local/lib/python3.7/dist-packages/ipykernel_launcher.py:4: DeprecationWarning: KerasClassifier is deprecated, use Sci-Keras (https://github.com/adriangb/scikeras) instead.\n",
      "  after removing the cwd from sys.path.\n",
      "WARNING:absl:Found untraced functions such as gru_cell_layer_call_fn, gru_cell_layer_call_and_return_conditional_losses, gru_cell_1_layer_call_fn, gru_cell_1_layer_call_and_return_conditional_losses, gru_cell_2_layer_call_fn while saving (showing 5 of 15). These functions will not be directly callable after loading.\n"
     ]
    },
    {
     "name": "stdout",
     "output_type": "stream",
     "text": [
      "INFO:tensorflow:Assets written to: ram://1ee61b0d-ae0c-4ff5-9dee-5689ed2faa66/assets\n"
     ]
    },
    {
     "name": "stderr",
     "output_type": "stream",
     "text": [
      "INFO:tensorflow:Assets written to: ram://1ee61b0d-ae0c-4ff5-9dee-5689ed2faa66/assets\n",
      "WARNING:absl:<keras.layers.recurrent.GRUCell object at 0x7efe145bcf50> has the same name 'GRUCell' as a built-in Keras object. Consider renaming <class 'keras.layers.recurrent.GRUCell'> to avoid naming conflicts when loading with `tf.keras.models.load_model`. If renaming is not possible, pass the object in the `custom_objects` parameter of the load function.\n",
      "WARNING:absl:<keras.layers.recurrent.GRUCell object at 0x7efe13d69f10> has the same name 'GRUCell' as a built-in Keras object. Consider renaming <class 'keras.layers.recurrent.GRUCell'> to avoid naming conflicts when loading with `tf.keras.models.load_model`. If renaming is not possible, pass the object in the `custom_objects` parameter of the load function.\n",
      "WARNING:absl:<keras.layers.recurrent.GRUCell object at 0x7efe13cd6810> has the same name 'GRUCell' as a built-in Keras object. Consider renaming <class 'keras.layers.recurrent.GRUCell'> to avoid naming conflicts when loading with `tf.keras.models.load_model`. If renaming is not possible, pass the object in the `custom_objects` parameter of the load function.\n"
     ]
    },
    {
     "name": "stdout",
     "output_type": "stream",
     "text": [
      "First 15 minutes -   ----> accuracy: 0.60000 \n",
      "First 100 minutes -   ----> accuracy: 0.55000 \n",
      "First 1000 minutes -   ----> accuracy: 0.52400 \n",
      "First 10000 minutes -   ----> accuracy: 0.49130 \n",
      "------- BTC -------\n"
     ]
    },
    {
     "name": "stderr",
     "output_type": "stream",
     "text": [
      "/usr/local/lib/python3.7/dist-packages/ipykernel_launcher.py:4: DeprecationWarning: KerasClassifier is deprecated, use Sci-Keras (https://github.com/adriangb/scikeras) instead.\n",
      "  after removing the cwd from sys.path.\n",
      "WARNING:absl:Found untraced functions such as gru_cell_3_layer_call_fn, gru_cell_3_layer_call_and_return_conditional_losses, gru_cell_4_layer_call_fn, gru_cell_4_layer_call_and_return_conditional_losses, gru_cell_5_layer_call_fn while saving (showing 5 of 15). These functions will not be directly callable after loading.\n"
     ]
    },
    {
     "name": "stdout",
     "output_type": "stream",
     "text": [
      "INFO:tensorflow:Assets written to: ram://c4eae4b0-af35-4237-97fc-a9af6e788ffb/assets\n"
     ]
    },
    {
     "name": "stderr",
     "output_type": "stream",
     "text": [
      "INFO:tensorflow:Assets written to: ram://c4eae4b0-af35-4237-97fc-a9af6e788ffb/assets\n",
      "WARNING:absl:<keras.layers.recurrent.GRUCell object at 0x7efd7164ccd0> has the same name 'GRUCell' as a built-in Keras object. Consider renaming <class 'keras.layers.recurrent.GRUCell'> to avoid naming conflicts when loading with `tf.keras.models.load_model`. If renaming is not possible, pass the object in the `custom_objects` parameter of the load function.\n",
      "WARNING:absl:<keras.layers.recurrent.GRUCell object at 0x7efd714a73d0> has the same name 'GRUCell' as a built-in Keras object. Consider renaming <class 'keras.layers.recurrent.GRUCell'> to avoid naming conflicts when loading with `tf.keras.models.load_model`. If renaming is not possible, pass the object in the `custom_objects` parameter of the load function.\n",
      "WARNING:absl:<keras.layers.recurrent.GRUCell object at 0x7efd716e52d0> has the same name 'GRUCell' as a built-in Keras object. Consider renaming <class 'keras.layers.recurrent.GRUCell'> to avoid naming conflicts when loading with `tf.keras.models.load_model`. If renaming is not possible, pass the object in the `custom_objects` parameter of the load function.\n"
     ]
    },
    {
     "name": "stdout",
     "output_type": "stream",
     "text": [
      "First 15 minutes -   ----> accuracy: 0.53333 \n",
      "First 100 minutes -   ----> accuracy: 0.51000 \n",
      "First 1000 minutes -   ----> accuracy: 0.52900 \n",
      "First 10000 minutes -   ----> accuracy: 0.52880 \n",
      "------- DOGE -------\n"
     ]
    },
    {
     "name": "stderr",
     "output_type": "stream",
     "text": [
      "/usr/local/lib/python3.7/dist-packages/ipykernel_launcher.py:4: DeprecationWarning: KerasClassifier is deprecated, use Sci-Keras (https://github.com/adriangb/scikeras) instead.\n",
      "  after removing the cwd from sys.path.\n",
      "WARNING:absl:Found untraced functions such as gru_cell_6_layer_call_fn, gru_cell_6_layer_call_and_return_conditional_losses, gru_cell_7_layer_call_fn, gru_cell_7_layer_call_and_return_conditional_losses, gru_cell_8_layer_call_fn while saving (showing 5 of 15). These functions will not be directly callable after loading.\n"
     ]
    },
    {
     "name": "stdout",
     "output_type": "stream",
     "text": [
      "INFO:tensorflow:Assets written to: ram://f1596a3b-d2e0-4885-8839-6cdd8da3b0f4/assets\n"
     ]
    },
    {
     "name": "stderr",
     "output_type": "stream",
     "text": [
      "INFO:tensorflow:Assets written to: ram://f1596a3b-d2e0-4885-8839-6cdd8da3b0f4/assets\n",
      "WARNING:absl:<keras.layers.recurrent.GRUCell object at 0x7efd72380e50> has the same name 'GRUCell' as a built-in Keras object. Consider renaming <class 'keras.layers.recurrent.GRUCell'> to avoid naming conflicts when loading with `tf.keras.models.load_model`. If renaming is not possible, pass the object in the `custom_objects` parameter of the load function.\n",
      "WARNING:absl:<keras.layers.recurrent.GRUCell object at 0x7efd72378510> has the same name 'GRUCell' as a built-in Keras object. Consider renaming <class 'keras.layers.recurrent.GRUCell'> to avoid naming conflicts when loading with `tf.keras.models.load_model`. If renaming is not possible, pass the object in the `custom_objects` parameter of the load function.\n",
      "WARNING:absl:<keras.layers.recurrent.GRUCell object at 0x7efd7233bc10> has the same name 'GRUCell' as a built-in Keras object. Consider renaming <class 'keras.layers.recurrent.GRUCell'> to avoid naming conflicts when loading with `tf.keras.models.load_model`. If renaming is not possible, pass the object in the `custom_objects` parameter of the load function.\n"
     ]
    },
    {
     "name": "stdout",
     "output_type": "stream",
     "text": [
      "First 15 minutes -   ----> accuracy: 0.33333 \n",
      "First 100 minutes -   ----> accuracy: 0.51000 \n",
      "First 1000 minutes -   ----> accuracy: 0.48100 \n",
      "First 10000 minutes -   ----> accuracy: 0.51400 \n",
      "------- ETH -------\n"
     ]
    },
    {
     "name": "stderr",
     "output_type": "stream",
     "text": [
      "/usr/local/lib/python3.7/dist-packages/ipykernel_launcher.py:4: DeprecationWarning: KerasClassifier is deprecated, use Sci-Keras (https://github.com/adriangb/scikeras) instead.\n",
      "  after removing the cwd from sys.path.\n",
      "WARNING:absl:Found untraced functions such as gru_cell_9_layer_call_fn, gru_cell_9_layer_call_and_return_conditional_losses, gru_cell_10_layer_call_fn, gru_cell_10_layer_call_and_return_conditional_losses, gru_cell_11_layer_call_fn while saving (showing 5 of 15). These functions will not be directly callable after loading.\n"
     ]
    },
    {
     "name": "stdout",
     "output_type": "stream",
     "text": [
      "INFO:tensorflow:Assets written to: ram://2ca02fdd-b905-44e3-8476-c7ef06e3a34d/assets\n"
     ]
    },
    {
     "name": "stderr",
     "output_type": "stream",
     "text": [
      "INFO:tensorflow:Assets written to: ram://2ca02fdd-b905-44e3-8476-c7ef06e3a34d/assets\n",
      "WARNING:absl:<keras.layers.recurrent.GRUCell object at 0x7efd9a27f290> has the same name 'GRUCell' as a built-in Keras object. Consider renaming <class 'keras.layers.recurrent.GRUCell'> to avoid naming conflicts when loading with `tf.keras.models.load_model`. If renaming is not possible, pass the object in the `custom_objects` parameter of the load function.\n",
      "WARNING:absl:<keras.layers.recurrent.GRUCell object at 0x7efd9a2841d0> has the same name 'GRUCell' as a built-in Keras object. Consider renaming <class 'keras.layers.recurrent.GRUCell'> to avoid naming conflicts when loading with `tf.keras.models.load_model`. If renaming is not possible, pass the object in the `custom_objects` parameter of the load function.\n",
      "WARNING:absl:<keras.layers.recurrent.GRUCell object at 0x7efd7243fe50> has the same name 'GRUCell' as a built-in Keras object. Consider renaming <class 'keras.layers.recurrent.GRUCell'> to avoid naming conflicts when loading with `tf.keras.models.load_model`. If renaming is not possible, pass the object in the `custom_objects` parameter of the load function.\n"
     ]
    },
    {
     "name": "stdout",
     "output_type": "stream",
     "text": [
      "First 15 minutes -   ----> accuracy: 0.53333 \n",
      "First 100 minutes -   ----> accuracy: 0.55000 \n",
      "First 1000 minutes -   ----> accuracy: 0.49800 \n",
      "First 10000 minutes -   ----> accuracy: 0.51230 \n",
      "------- LTC -------\n"
     ]
    },
    {
     "name": "stderr",
     "output_type": "stream",
     "text": [
      "/usr/local/lib/python3.7/dist-packages/ipykernel_launcher.py:4: DeprecationWarning: KerasClassifier is deprecated, use Sci-Keras (https://github.com/adriangb/scikeras) instead.\n",
      "  after removing the cwd from sys.path.\n",
      "WARNING:absl:Found untraced functions such as gru_cell_12_layer_call_fn, gru_cell_12_layer_call_and_return_conditional_losses, gru_cell_13_layer_call_fn, gru_cell_13_layer_call_and_return_conditional_losses, gru_cell_14_layer_call_fn while saving (showing 5 of 15). These functions will not be directly callable after loading.\n"
     ]
    },
    {
     "name": "stdout",
     "output_type": "stream",
     "text": [
      "INFO:tensorflow:Assets written to: ram://2a625974-e7a6-4b59-9a4a-382656d21ff5/assets\n"
     ]
    },
    {
     "name": "stderr",
     "output_type": "stream",
     "text": [
      "INFO:tensorflow:Assets written to: ram://2a625974-e7a6-4b59-9a4a-382656d21ff5/assets\n",
      "WARNING:absl:<keras.layers.recurrent.GRUCell object at 0x7efd72368a50> has the same name 'GRUCell' as a built-in Keras object. Consider renaming <class 'keras.layers.recurrent.GRUCell'> to avoid naming conflicts when loading with `tf.keras.models.load_model`. If renaming is not possible, pass the object in the `custom_objects` parameter of the load function.\n",
      "WARNING:absl:<keras.layers.recurrent.GRUCell object at 0x7efd71c41310> has the same name 'GRUCell' as a built-in Keras object. Consider renaming <class 'keras.layers.recurrent.GRUCell'> to avoid naming conflicts when loading with `tf.keras.models.load_model`. If renaming is not possible, pass the object in the `custom_objects` parameter of the load function.\n",
      "WARNING:absl:<keras.layers.recurrent.GRUCell object at 0x7efd71c5b050> has the same name 'GRUCell' as a built-in Keras object. Consider renaming <class 'keras.layers.recurrent.GRUCell'> to avoid naming conflicts when loading with `tf.keras.models.load_model`. If renaming is not possible, pass the object in the `custom_objects` parameter of the load function.\n"
     ]
    },
    {
     "name": "stdout",
     "output_type": "stream",
     "text": [
      "First 15 minutes -   ----> accuracy: 0.53333 \n",
      "First 100 minutes -   ----> accuracy: 0.54000 \n",
      "First 1000 minutes -   ----> accuracy: 0.51300 \n",
      "First 10000 minutes -   ----> accuracy: 0.50380 \n"
     ]
    }
   ],
   "source": [
    "acc_list_coins_rnn = []\n",
    "for i in range(5):\n",
    "  print('------- ' + coin_names[i] + ' -------')\n",
    "  rnn = make_pipeline(StandardScaler(), KerasClassifier(build_fn= build_rnn_gru, verbose=0))\n",
    "  rnn.fit(train_X_list[i], train_y_list[i])\n",
    "  model_name = 'rnn_' + coin_names[i]\n",
    "  filename = model_name + '.pkl'\n",
    "  with open(filename, 'wb') as file:\n",
    "    pickle.dump(rnn, file)\n",
    "  acc_list_coins_rnn.append(vary_end_time(rnn, test_X_list[i], test_y_list[i]))\n",
    "  del rnn\n",
    "  gc.collect()"
   ]
  },
  {
   "cell_type": "markdown",
   "metadata": {
    "id": "FZw59-f5m5Sr"
   },
   "source": [
    "### Support Vector Classifier"
   ]
  },
  {
   "cell_type": "code",
   "execution_count": null,
   "metadata": {
    "colab": {
     "base_uri": "https://localhost:8080/"
    },
    "id": "VkCn7S_79ESo",
    "outputId": "5dd62729-0404-4385-e41f-61084059e9f3"
   },
   "outputs": [
    {
     "metadata": {
      "tags": null
     },
     "name": "stdout",
     "output_type": "stream",
     "text": [
      "------- ADA -------\n",
      "------- ADA -------\n",
      "First 15 minutes -   ----> accuracy: 0.46667 \n",
      "First 100 minutes -   ----> accuracy: 0.64000 \n",
      "First 1000 minutes -   ----> accuracy: 0.53100 \n",
      "First 10000 minutes -   ----> accuracy: 0.50850 \n",
      "------- BTC -------\n",
      "------- BTC -------\n",
      "First 15 minutes -   ----> accuracy: 0.53333 \n",
      "First 100 minutes -   ----> accuracy: 0.61000 \n",
      "First 1000 minutes -   ----> accuracy: 0.54800 \n",
      "First 10000 minutes -   ----> accuracy: 0.52900 \n",
      "------- DOGE -------\n",
      "------- DOGE -------\n",
      "First 15 minutes -   ----> accuracy: 0.53333 \n",
      "First 100 minutes -   ----> accuracy: 0.51000 \n",
      "First 1000 minutes -   ----> accuracy: 0.50100 \n",
      "First 10000 minutes -   ----> accuracy: 0.51550 \n",
      "------- ETH -------\n"
     ]
    }
   ],
   "source": [
    "#ADA - BTC - DOGE\n",
    "acc_list_coins_svc = []\n",
    "for i in range(5):\n",
    "  #btc_train_valid_X[len(btc_train_valid_y)-100000:len(btc_train_valid_y),:], btc_train_valid_y[len(btc_train_valid_y)-100000:len(btc_train_valid_y)]\n",
    "  print('------- ' + coin_names[i] + ' -------')\n",
    "  svc = make_pipeline(StandardScaler(), SVC(C = 1, kernel = 'rbf', probability = False))\n",
    "  svc.fit((train_X_list[i])[len(train_y_list[i])-200000:len(train_y_list[i]),:], (train_y_list[i])[len(train_y_list[i])-200000:len(train_y_list[i])])\n",
    "  print('------- ' + coin_names[i] + ' -------')\n",
    "  model_name = 'svc_' + coin_names[i]\n",
    "  filename = model_name + '.pkl'\n",
    "  with open(filename, 'wb') as file:\n",
    "    pickle.dump(svc, file)\n",
    "  acc_list_coins_svc.append(vary_end_time(svc, test_X_list[i], test_y_list[i]))\n",
    "  del svc\n",
    "  gc.collect()"
   ]
  },
  {
   "cell_type": "code",
   "execution_count": null,
   "metadata": {
    "colab": {
     "base_uri": "https://localhost:8080/"
    },
    "id": "XEYguXriJo9h",
    "outputId": "365b463d-3d0a-4d13-8b5c-7ebd9c915111"
   },
   "outputs": [
    {
     "name": "stdout",
     "output_type": "stream",
     "text": [
      "------- ETH -------\n",
      "First 15 minutes -   ----> accuracy: 0.46667 \n",
      "First 100 minutes -   ----> accuracy: 0.50000 \n",
      "First 1000 minutes -   ----> accuracy: 0.50600 \n",
      "First 10000 minutes -   ----> accuracy: 0.51630 \n"
     ]
    },
    {
     "data": {
      "text/plain": [
       "[0.4666666666666667, 0.5, 0.506, 0.5163]"
      ]
     },
     "execution_count": 23,
     "metadata": {},
     "output_type": "execute_result"
    }
   ],
   "source": [
    "#ETH\n",
    "print('------- ' + coin_names[3] + ' -------')\n",
    "with open('svc_ETH.pkl', 'rb') as file:\n",
    "    pickle_model = pickle.load(file)\n",
    "\n",
    "vary_end_time(pickle_model, test_X_list[3], test_y_list[3])\n"
   ]
  },
  {
   "cell_type": "code",
   "execution_count": null,
   "metadata": {
    "colab": {
     "base_uri": "https://localhost:8080/"
    },
    "id": "kSThMwB9VbiW",
    "outputId": "9ce938e1-3c38-4f10-907d-d616c893625d"
   },
   "outputs": [
    {
     "name": "stdout",
     "output_type": "stream",
     "text": [
      "------- LTC -------\n",
      "First 15 minutes -   ----> accuracy: 0.40000 \n",
      "First 100 minutes -   ----> accuracy: 0.52000 \n",
      "First 1000 minutes -   ----> accuracy: 0.51700 \n",
      "First 10000 minutes -   ----> accuracy: 0.51050 \n"
     ]
    },
    {
     "data": {
      "text/plain": [
       "[0.4, 0.52, 0.517, 0.5105]"
      ]
     },
     "execution_count": 26,
     "metadata": {},
     "output_type": "execute_result"
    }
   ],
   "source": [
    "#LTC\n",
    "print('------- ' + coin_names[4] + ' -------')\n",
    "with open('svc_LTC.pkl', 'rb') as file:\n",
    "    pickle_model = pickle.load(file)\n",
    "\n",
    "vary_end_time(pickle_model, test_X_list[4], test_y_list[4])"
   ]
  }
 ],
 "metadata": {
  "accelerator": "GPU",
  "colab": {
   "collapsed_sections": [],
   "name": "CryptoReturnPrediction.ipynb",
   "provenance": []
  },
  "kernelspec": {
   "display_name": "Python 3",
   "language": "python",
   "name": "python3"
  },
  "language_info": {
   "codemirror_mode": {
    "name": "ipython",
    "version": 3
   },
   "file_extension": ".py",
   "mimetype": "text/x-python",
   "name": "python",
   "nbconvert_exporter": "python",
   "pygments_lexer": "ipython3",
   "version": "3.8.8"
  }
 },
 "nbformat": 4,
 "nbformat_minor": 1
}
